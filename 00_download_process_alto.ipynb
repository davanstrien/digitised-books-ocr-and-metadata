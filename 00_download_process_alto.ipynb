{
 "cells": [
  {
   "cell_type": "markdown",
   "metadata": {},
   "source": [
    "## Processing ALTO XML to JSONL\n",
    "\n",
    "This notebook does the following:\n",
    "\n",
    "- downloads ATLO XML versions of [Digitised printed books (18th-19th century)](https://www.bl.uk/collection-guides/digitised-printed-books)\n",
    "- decompresses these files\n",
    "- processes the text and some metadata from the XML files\n",
    "- saves a file for each book in `JSONL` format. "
   ]
  },
  {
   "cell_type": "markdown",
   "metadata": {},
   "source": [
    "### Import required packages \n"
   ]
  },
  {
   "cell_type": "code",
   "execution_count": 1,
   "metadata": {
    "id": "zy_Stt3DgpQQ"
   },
   "outputs": [],
   "source": [
    "import re\n",
    "import zipfile\n",
    "import shutil\n",
    "from pathlib import Path\n",
    "import json\n",
    "import subprocess\n",
    "import tarfile\n",
    "import os.path\n",
    "from tqdm.auto import tqdm\n",
    "import xml.etree.ElementTree as ET\n",
    "from statistics import mean, stdev\n",
    "from zipfile import BadZipfile"
   ]
  },
  {
   "cell_type": "markdown",
   "metadata": {},
   "source": [
    "Make some directories for storing our downloads "
   ]
  },
  {
   "cell_type": "code",
   "execution_count": 2,
   "metadata": {},
   "outputs": [],
   "source": [
    "path = Path(\"data/\")\n",
    "path.mkdir(exist_ok=True, parents=True)\n",
    "path_in = path / \"in\"\n",
    "path_in.mkdir(exist_ok=True)"
   ]
  },
  {
   "cell_type": "markdown",
   "metadata": {},
   "source": [
    "Create a dictionary for the URLs"
   ]
  },
  {
   "cell_type": "code",
   "execution_count": 3,
   "metadata": {},
   "outputs": [],
   "source": [
    "_URL = \"https://data.bl.uk/digbks/\""
   ]
  },
  {
   "cell_type": "code",
   "execution_count": 4,
   "metadata": {},
   "outputs": [],
   "source": [
    "_URLS = {\n",
    "    \"unkown\": _URL + \"unknown.zip\",\n",
    "    \"1510-1699\": _URL + \"1510_1699.zip\",\n",
    "    \"1700-1799\": _URL + \"1700_1799.zip\",\n",
    "    \"1800-1809\": _URL + \"1800_1809.zip\",\n",
    "    \"1810-1819\": _URL + \"1810_1819.zip\",\n",
    "    \"1820-1829\": _URL + \"1820_1829.zip\",\n",
    "    \"1830-1839\": _URL + \"1830_1839.zip\",\n",
    "    \"1840-1849\": _URL + \"1840_1849.zip\",\n",
    "    \"1850-1859\": _URL + \"1850_1859.zip\",\n",
    "    \"1860-1869\": _URL + \"1860_1869.zip\",\n",
    "    \"1870-1879\": _URL + \"1870_1879.zip\",\n",
    "    \"1880-1889\": _URL + \"1880_1889.zip\",\n",
    "    \"1890-1899\": _URL + \"1890_1899.zip\",\n",
    "}"
   ]
  },
  {
   "cell_type": "code",
   "execution_count": null,
   "metadata": {},
   "outputs": [],
   "source": []
  },
  {
   "cell_type": "markdown",
   "metadata": {
    "id": "XrPwF2QGykhj"
   },
   "source": [
    "## Some processing helpers"
   ]
  },
  {
   "cell_type": "markdown",
   "metadata": {},
   "source": [
    "### Getting dates from the alto XML"
   ]
  },
  {
   "cell_type": "code",
   "execution_count": 5,
   "metadata": {
    "id": "qaAgqwnQw4rL"
   },
   "outputs": [],
   "source": [
    "date_text = \"[1652.]\""
   ]
  },
  {
   "cell_type": "code",
   "execution_count": 6,
   "metadata": {
    "colab": {
     "base_uri": "https://localhost:8080/"
    },
    "id": "5ScnLGAxxe4B",
    "outputId": "a08a7170-e42f-4a1e-ccda-eb51d7405977"
   },
   "outputs": [
    {
     "data": {
      "text/plain": [
       "['[1652', ']']"
      ]
     },
     "execution_count": 6,
     "metadata": {},
     "output_type": "execute_result"
    }
   ],
   "source": [
    "date_text.split(\".\")"
   ]
  },
  {
   "cell_type": "code",
   "execution_count": 7,
   "metadata": {
    "id": "vK2VwwXwz1UG"
   },
   "outputs": [],
   "source": [
    "pattern = re.compile(r\"\\d{4}\")"
   ]
  },
  {
   "cell_type": "code",
   "execution_count": 8,
   "metadata": {
    "id": "5vYLhr0rxuDZ"
   },
   "outputs": [],
   "source": [
    "match = re.search(pattern, date_text)"
   ]
  },
  {
   "cell_type": "code",
   "execution_count": 9,
   "metadata": {
    "colab": {
     "base_uri": "https://localhost:8080/"
    },
    "id": "JSyOCWC0xTPE",
    "outputId": "84c8ef4b-cb37-4efb-ecad-5fb25f4effd9"
   },
   "outputs": [
    {
     "data": {
      "text/plain": [
       "['1652']"
      ]
     },
     "execution_count": 9,
     "metadata": {},
     "output_type": "execute_result"
    }
   ],
   "source": [
    "re.findall(pattern, date_text)"
   ]
  },
  {
   "cell_type": "code",
   "execution_count": 10,
   "metadata": {
    "id": "YYkB3LHHxkAy"
   },
   "outputs": [],
   "source": [
    "pattern = re.compile(r\"\\d{4}\")\n",
    "\n",
    "\n",
    "def get_four_digit(date_text):\n",
    "    matches = re.findall(pattern, date_text)\n",
    "    if not matches:\n",
    "        return \"\"\n",
    "    if len(matches) == 1:\n",
    "        return matches[0]\n",
    "    else:\n",
    "        dates = (\n",
    "            date for date in matches if date and (int(date) < 1900 and int(date) > 1500)\n",
    "        )\n",
    "        return str(round(mean(int(n) if n else 0 for n in dates)))"
   ]
  },
  {
   "cell_type": "code",
   "execution_count": 11,
   "metadata": {},
   "outputs": [
    {
     "name": "stdout",
     "output_type": "stream",
     "text": [
      "1652\n",
      "1929\n",
      "1835\n"
     ]
    }
   ],
   "source": [
    "test_dates_4 = [\"1652\", \"[1929]\", \"1830-1840\"]\n",
    "for date in test_dates_4:\n",
    "    assert len(get_four_digit(date)) == 4\n",
    "    print(get_four_digit(date))"
   ]
  },
  {
   "cell_type": "code",
   "execution_count": 12,
   "metadata": {
    "id": "nGCIqOYk1MqS"
   },
   "outputs": [],
   "source": [
    "weird_date = \" [1792]\""
   ]
  },
  {
   "cell_type": "code",
   "execution_count": 13,
   "metadata": {},
   "outputs": [
    {
     "data": {
      "text/plain": [
       "'1792'"
      ]
     },
     "execution_count": 13,
     "metadata": {},
     "output_type": "execute_result"
    }
   ],
   "source": [
    "get_four_digit(weird_date)"
   ]
  },
  {
   "cell_type": "code",
   "execution_count": 14,
   "metadata": {
    "id": "30QS_vUSxAQ8"
   },
   "outputs": [],
   "source": [
    "def strip_non_numeric(date_text):\n",
    "    return \"\".join(filter(str.isdigit, date_text))"
   ]
  },
  {
   "cell_type": "markdown",
   "metadata": {},
   "source": [
    "### Grabbing metadata we want "
   ]
  },
  {
   "cell_type": "code",
   "execution_count": 15,
   "metadata": {
    "id": "qMLd_PY6MA8v"
   },
   "outputs": [],
   "source": [
    "def get_meta(meta_xml):\n",
    "    tree = ET.parse(meta_xml)\n",
    "    root = tree.getroot()\n",
    "    dates = root.findall(\".//{http://www.loc.gov/mods/v3}dateIssued\")\n",
    "    # sometime we have multiple dates\n",
    "    # use a crude filter to try and get the correct one\n",
    "    if not dates:\n",
    "        date = None\n",
    "    elif len(dates) == 1:\n",
    "        date_text = dates[0].text\n",
    "        date = get_four_digit(date_text)\n",
    "        date = int(date)\n",
    "    else:\n",
    "        candidate_dates = (date.text for date in dates)\n",
    "        candidate_dates = (get_four_digit(date) for date in candidate_dates)\n",
    "        if not candidate_dates:\n",
    "            date = None\n",
    "        if candidate_dates:\n",
    "            date = list(candidate_dates)[0]\n",
    "            try:\n",
    "                date = int(date)\n",
    "            except ValueError:\n",
    "                date = None\n",
    "    title = root.findall(\".//{http://www.loc.gov/mods/v3}title\")\n",
    "    title = title[0].text if title else None\n",
    "    place = root.findall(\".//{http://www.loc.gov/mods/v3}placeTerm\")\n",
    "    place = place[0].text if place else None\n",
    "    record_id = root.findall(\".//{http://www.loc.gov/mods/v3}recordIdentifier\")\n",
    "    record_id = record_id[0].text if record_id else None\n",
    "    return {\"date\": date, \"title\": title, \"place\": place, \"record_id\": record_id}"
   ]
  },
  {
   "cell_type": "markdown",
   "metadata": {},
   "source": [
    "### Getting the text and related information we want from the XML"
   ]
  },
  {
   "cell_type": "code",
   "execution_count": 16,
   "metadata": {
    "id": "zQWF2JFYOZXM"
   },
   "outputs": [],
   "source": [
    "def get_text_from_xml(xml):\n",
    "    tree = ET.parse(xml)\n",
    "    root = tree.getroot()\n",
    "    strings = root.findall(\".//String\")\n",
    "    text = [string.get(\"CONTENT\") for string in strings]\n",
    "    if text:\n",
    "        wc = mean(float(string.get(\"WC\")) for string in strings)\n",
    "        wc = round(wc, ndigits=3)\n",
    "        if len(text) > 2:\n",
    "            std = stdev(float(string.get(\"WC\")) for string in strings)\n",
    "            std = round(std, ndigits=3)\n",
    "        else:\n",
    "            std = None\n",
    "        return text, wc, std\n",
    "    return None, None, None"
   ]
  },
  {
   "cell_type": "markdown",
   "metadata": {},
   "source": [
    "### Parsing volumes\n",
    "Create folder for storing our new output jsonl files "
   ]
  },
  {
   "cell_type": "code",
   "execution_count": 17,
   "metadata": {},
   "outputs": [],
   "source": [
    "out_json = Path(\"data/json\")\n",
    "out_json.mkdir(exist_ok=True)"
   ]
  },
  {
   "cell_type": "code",
   "execution_count": 18,
   "metadata": {
    "id": "Eohyjj1bPnPn"
   },
   "outputs": [],
   "source": [
    "def parse_volume(volume_dir, out_dir=out_json):\n",
    "    meta = get_meta(list(volume_dir.glob(\"*metadata.xml\"))[0])\n",
    "    alto_dir = list(volume_dir.glob(\"ALTO\"))[0]\n",
    "    volume = []\n",
    "    for i, xml in enumerate(sorted(Path(alto_dir).glob(\"*.xml\"))):\n",
    "        data = {}\n",
    "        text, ocr, std = get_text_from_xml(xml)\n",
    "        if not text:\n",
    "            is_empty = True\n",
    "        else:\n",
    "            is_empty = False\n",
    "        data[\"pg\"] = i + 1\n",
    "        if text:\n",
    "            data[\"text\"] = \" \".join(text)\n",
    "        if not text:\n",
    "            data[\"text\"] = None\n",
    "        data[\"mean_wc_ocr\"] = ocr\n",
    "        data[\"std_wc_ocr\"] = std\n",
    "        data[\"empty_pg\"] = is_empty\n",
    "        volume.append({**meta, **data})\n",
    "    _id = volume[0][\"record_id\"]\n",
    "    date = meta[\"date\"]\n",
    "    if date == None:\n",
    "        date = \"UNKOWN\"\n",
    "    try:\n",
    "        if int(date) > 1950:\n",
    "            print(date, _id)\n",
    "    except ValueError:\n",
    "        pass\n",
    "    with open(f\"{out_dir}/{date}_{_id}.jsonl\", \"w\") as f:\n",
    "        for item in volume:\n",
    "            f.write(json.dumps(item) + \"\\n\")"
   ]
  },
  {
   "cell_type": "markdown",
   "metadata": {
    "tags": []
   },
   "source": [
    "## Extract a volumne"
   ]
  },
  {
   "cell_type": "code",
   "execution_count": 19,
   "metadata": {},
   "outputs": [],
   "source": [
    "def extract_volume(zipped, out_final):\n",
    "    save_dir = Path(f\"{out_final}/{zipped.parts[-2].split('.')[0]}/{zipped.stem}\")\n",
    "    save_dir.mkdir(parents=True)\n",
    "    try:\n",
    "        with zipfile.ZipFile(zipped, \"r\") as zip_ref:\n",
    "            zip_ref.extractall(save_dir)\n",
    "            parse_volume(save_dir)\n",
    "            shutil.rmtree(save_dir)\n",
    "    except BadZipfile as e:\n",
    "        # weird_zips.append(zipped)\n",
    "        print(\"\\U0001F92E\", zipped)\n",
    "        return zipped"
   ]
  },
  {
   "cell_type": "code",
   "execution_count": 20,
   "metadata": {},
   "outputs": [],
   "source": [
    "out_path = Path(\"data/tmp\")"
   ]
  },
  {
   "cell_type": "code",
   "execution_count": 21,
   "metadata": {},
   "outputs": [
    {
     "data": {
      "text/plain": [
       "{'1890-1899': 'https://data.bl.uk/digbks/1890_1899.zip',\n",
       " '1880-1889': 'https://data.bl.uk/digbks/1880_1889.zip',\n",
       " '1870-1879': 'https://data.bl.uk/digbks/1870_1879.zip',\n",
       " '1860-1869': 'https://data.bl.uk/digbks/1860_1869.zip',\n",
       " '1850-1859': 'https://data.bl.uk/digbks/1850_1859.zip',\n",
       " '1840-1849': 'https://data.bl.uk/digbks/1840_1849.zip',\n",
       " '1830-1839': 'https://data.bl.uk/digbks/1830_1839.zip',\n",
       " '1820-1829': 'https://data.bl.uk/digbks/1820_1829.zip',\n",
       " '1810-1819': 'https://data.bl.uk/digbks/1810_1819.zip',\n",
       " '1800-1809': 'https://data.bl.uk/digbks/1800_1809.zip',\n",
       " '1700-1799': 'https://data.bl.uk/digbks/1700_1799.zip',\n",
       " '1510-1699': 'https://data.bl.uk/digbks/1510_1699.zip',\n",
       " 'unkown': 'https://data.bl.uk/digbks/unknown.zip'}"
      ]
     },
     "execution_count": 21,
     "metadata": {},
     "output_type": "execute_result"
    }
   ],
   "source": [
    "_URLS = dict(reversed(_URLS.items()))\n",
    "_URLS"
   ]
  },
  {
   "cell_type": "code",
   "execution_count": 22,
   "metadata": {},
   "outputs": [
    {
     "data": {
      "application/vnd.jupyter.widget-view+json": {
       "model_id": "bd07f0772c9b49d5947c19e956bbf1bb",
       "version_major": 2,
       "version_minor": 0
      },
      "text/plain": [
       "HBox(children=(FloatProgress(value=0.0, max=13.0), HTML(value='')))"
      ]
     },
     "metadata": {},
     "output_type": "display_data"
    },
    {
     "name": "stdout",
     "output_type": "stream",
     "text": [
      "1890-1899\n",
      "\n",
      "7-Zip [64] 17.04 : Copyright (c) 1999-2021 Igor Pavlov : 2017-08-28\n",
      "p7zip Version 17.04 (locale=utf8,Utf16=on,HugeFiles=on,64 bits,8 CPUs x64)\n",
      "\n",
      "Scanning the drive for archives:\n",
      "1 file, 47019711337 bytes (44 GiB)\n",
      "\n",
      "Extracting archive: data/in/1890_1899.zip\n",
      "--\n",
      "Path = data/in/1890_1899.zip\n",
      "Type = zip\n",
      "Physical Size = 47019711337\n",
      "64-bit = +\n",
      "Characteristics = Zip64\n",
      "\n",
      "Everything is Ok\n",
      "\n",
      "Folders: 1\n",
      "Files: 14847\n",
      "Size:       47016510803\n",
      "Compressed: 47019711337\n"
     ]
    },
    {
     "data": {
      "application/vnd.jupyter.widget-view+json": {
       "model_id": "",
       "version_major": 2,
       "version_minor": 0
      },
      "text/plain": [
       "HBox(children=(FloatProgress(value=0.0, description='data/in/1890_1899.zip', max=14847.0, style=ProgressStyle(…"
      ]
     },
     "metadata": {},
     "output_type": "display_data"
    },
    {
     "name": "stdout",
     "output_type": "stream",
     "text": [
      "1880-1889\n",
      "\n",
      "7-Zip [64] 17.04 : Copyright (c) 1999-2021 Igor Pavlov : 2017-08-28\n",
      "p7zip Version 17.04 (locale=utf8,Utf16=on,HugeFiles=on,64 bits,8 CPUs x64)\n",
      "\n",
      "Scanning the drive for archives:\n",
      "1 file, 40886363006 bytes (39 GiB)\n",
      "\n",
      "Extracting archive: data/in/1880_1889.zip\n",
      "--\n",
      "Path = data/in/1880_1889.zip\n",
      "Type = zip\n",
      "Physical Size = 40886363006\n",
      "64-bit = +\n",
      "Characteristics = Zip64\n",
      "\n",
      "Everything is Ok\n",
      "\n",
      "Folders: 1\n",
      "Files: 10856\n",
      "Size:       40884024598\n",
      "Compressed: 40886363006\n"
     ]
    },
    {
     "data": {
      "application/vnd.jupyter.widget-view+json": {
       "model_id": "",
       "version_major": 2,
       "version_minor": 0
      },
      "text/plain": [
       "HBox(children=(FloatProgress(value=0.0, description='data/in/1880_1889.zip', max=10856.0, style=ProgressStyle(…"
      ]
     },
     "metadata": {},
     "output_type": "display_data"
    },
    {
     "name": "stdout",
     "output_type": "stream",
     "text": [
      "1870-1879\n",
      "\n",
      "7-Zip [64] 17.04 : Copyright (c) 1999-2021 Igor Pavlov : 2017-08-28\n",
      "p7zip Version 17.04 (locale=utf8,Utf16=on,HugeFiles=on,64 bits,8 CPUs x64)\n",
      "\n",
      "Scanning the drive for archives:\n",
      "1 file, 32205584255 bytes (30 GiB)\n",
      "\n",
      "Extracting archive: data/in/1870_1879.zip\n",
      "--\n",
      "Path = data/in/1870_1879.zip\n",
      "Type = zip\n",
      "Physical Size = 32205584255\n",
      "64-bit = +\n",
      "Characteristics = Zip64\n",
      "\n",
      "Everything is Ok\n",
      "\n",
      "Folders: 1\n",
      "Files: 8630\n",
      "Size:       32203727593\n",
      "Compressed: 32205584255\n"
     ]
    },
    {
     "data": {
      "application/vnd.jupyter.widget-view+json": {
       "model_id": "",
       "version_major": 2,
       "version_minor": 0
      },
      "text/plain": [
       "HBox(children=(FloatProgress(value=0.0, description='data/in/1870_1879.zip', max=8630.0, style=ProgressStyle(d…"
      ]
     },
     "metadata": {},
     "output_type": "display_data"
    },
    {
     "name": "stdout",
     "output_type": "stream",
     "text": [
      "1860-1869\n",
      "\n",
      "7-Zip [64] 17.04 : Copyright (c) 1999-2021 Igor Pavlov : 2017-08-28\n",
      "p7zip Version 17.04 (locale=utf8,Utf16=on,HugeFiles=on,64 bits,8 CPUs x64)\n",
      "\n",
      "Scanning the drive for archives:\n",
      "1 file, 31055400974 bytes (29 GiB)\n",
      "\n",
      "Extracting archive: data/in/1860_1869.zip\n",
      "--\n",
      "Path = data/in/1860_1869.zip\n",
      "Type = zip\n",
      "Physical Size = 31055400974\n",
      "64-bit = +\n",
      "Characteristics = Zip64\n",
      "\n",
      "Everything is Ok\n",
      "\n",
      "Folders: 1\n",
      "Files: 7498\n",
      "Size:       31053786202\n",
      "Compressed: 31055400974\n"
     ]
    },
    {
     "data": {
      "application/vnd.jupyter.widget-view+json": {
       "model_id": "",
       "version_major": 2,
       "version_minor": 0
      },
      "text/plain": [
       "HBox(children=(FloatProgress(value=0.0, description='data/in/1860_1869.zip', max=7498.0, style=ProgressStyle(d…"
      ]
     },
     "metadata": {},
     "output_type": "display_data"
    },
    {
     "name": "stdout",
     "output_type": "stream",
     "text": [
      "1850-1859\n",
      "\n",
      "7-Zip [64] 17.04 : Copyright (c) 1999-2021 Igor Pavlov : 2017-08-28\n",
      "p7zip Version 17.04 (locale=utf8,Utf16=on,HugeFiles=on,64 bits,8 CPUs x64)\n",
      "\n",
      "Scanning the drive for archives:\n",
      "1 file, 28375238329 bytes (27 GiB)\n",
      "\n",
      "Extracting archive: data/in/1850_1859.zip\n",
      "--\n",
      "Path = data/in/1850_1859.zip\n",
      "Type = zip\n",
      "Physical Size = 28375238329\n",
      "64-bit = +\n",
      "Characteristics = Zip64\n",
      "\n",
      "Everything is Ok\n",
      "\n",
      "Folders: 1\n",
      "Files: 5818\n",
      "Size:       28373986125\n",
      "Compressed: 28375238329\n"
     ]
    },
    {
     "data": {
      "application/vnd.jupyter.widget-view+json": {
       "model_id": "",
       "version_major": 2,
       "version_minor": 0
      },
      "text/plain": [
       "HBox(children=(FloatProgress(value=0.0, description='data/in/1850_1859.zip', max=5818.0, style=ProgressStyle(d…"
      ]
     },
     "metadata": {},
     "output_type": "display_data"
    },
    {
     "name": "stdout",
     "output_type": "stream",
     "text": [
      "1840-1849\n",
      "\n",
      "7-Zip [64] 17.04 : Copyright (c) 1999-2021 Igor Pavlov : 2017-08-28\n",
      "p7zip Version 17.04 (locale=utf8,Utf16=on,HugeFiles=on,64 bits,8 CPUs x64)\n",
      "\n",
      "Scanning the drive for archives:\n",
      "1 file, 20478731424 bytes (20 GiB)\n",
      "\n",
      "Extracting archive: data/in/1840_1849.zip\n",
      "--\n",
      "Path = data/in/1840_1849.zip\n",
      "Type = zip\n",
      "Physical Size = 20478731424\n",
      "64-bit = +\n",
      "Characteristics = Zip64\n",
      "\n",
      "Everything is Ok\n",
      "\n",
      "Folders: 1\n",
      "Files: 4070\n",
      "Size:       20477859236\n",
      "Compressed: 20478731424\n"
     ]
    },
    {
     "data": {
      "application/vnd.jupyter.widget-view+json": {
       "model_id": "",
       "version_major": 2,
       "version_minor": 0
      },
      "text/plain": [
       "HBox(children=(FloatProgress(value=0.0, description='data/in/1840_1849.zip', max=4070.0, style=ProgressStyle(d…"
      ]
     },
     "metadata": {},
     "output_type": "display_data"
    },
    {
     "name": "stdout",
     "output_type": "stream",
     "text": [
      "1830-1839\n",
      "\n",
      "7-Zip [64] 17.04 : Copyright (c) 1999-2021 Igor Pavlov : 2017-08-28\n",
      "p7zip Version 17.04 (locale=utf8,Utf16=on,HugeFiles=on,64 bits,8 CPUs x64)\n",
      "\n",
      "Scanning the drive for archives:\n",
      "1 file, 10962264514 bytes (11 GiB)\n",
      "\n",
      "Extracting archive: data/in/1830_1839.zip\n",
      "--\n",
      "Path = data/in/1830_1839.zip\n",
      "Type = zip\n",
      "Physical Size = 10962264514\n",
      "64-bit = +\n",
      "Characteristics = Zip64\n",
      "\n",
      "Everything is Ok\n",
      "\n",
      "Folders: 1\n",
      "Files: 2639\n",
      "Size:       10961704172\n",
      "Compressed: 10962264514\n"
     ]
    },
    {
     "data": {
      "application/vnd.jupyter.widget-view+json": {
       "model_id": "",
       "version_major": 2,
       "version_minor": 0
      },
      "text/plain": [
       "HBox(children=(FloatProgress(value=0.0, description='data/in/1830_1839.zip', max=2639.0, style=ProgressStyle(d…"
      ]
     },
     "metadata": {},
     "output_type": "display_data"
    },
    {
     "name": "stdout",
     "output_type": "stream",
     "text": [
      "1820-1829\n",
      "\n",
      "7-Zip [64] 17.04 : Copyright (c) 1999-2021 Igor Pavlov : 2017-08-28\n",
      "p7zip Version 17.04 (locale=utf8,Utf16=on,HugeFiles=on,64 bits,8 CPUs x64)\n",
      "\n",
      "Scanning the drive for archives:\n",
      "1 file, 10667434360 bytes (10174 MiB)\n",
      "\n",
      "Extracting archive: data/in/1820_1829.zip\n",
      "--\n",
      "Path = data/in/1820_1829.zip\n",
      "Type = zip\n",
      "Physical Size = 10667434360\n",
      "64-bit = +\n",
      "Characteristics = Zip64\n",
      "\n",
      "Everything is Ok\n",
      "\n",
      "Folders: 1\n",
      "Files: 2739\n",
      "Size:       10666854328\n",
      "Compressed: 10667434360\n"
     ]
    },
    {
     "data": {
      "application/vnd.jupyter.widget-view+json": {
       "model_id": "",
       "version_major": 2,
       "version_minor": 0
      },
      "text/plain": [
       "HBox(children=(FloatProgress(value=0.0, description='data/in/1820_1829.zip', max=2739.0, style=ProgressStyle(d…"
      ]
     },
     "metadata": {},
     "output_type": "display_data"
    },
    {
     "name": "stdout",
     "output_type": "stream",
     "text": [
      "1810-1819\n",
      "\n",
      "7-Zip [64] 17.04 : Copyright (c) 1999-2021 Igor Pavlov : 2017-08-28\n",
      "p7zip Version 17.04 (locale=utf8,Utf16=on,HugeFiles=on,64 bits,8 CPUs x64)\n",
      "\n",
      "Scanning the drive for archives:\n",
      "1 file, 6701393352 bytes (6391 MiB)\n",
      "\n",
      "Extracting archive: data/in/1810_1819.zip\n",
      "--\n",
      "Path = data/in/1810_1819.zip\n",
      "Type = zip\n",
      "Physical Size = 6701393352\n",
      "64-bit = +\n",
      "Characteristics = Zip64\n",
      "\n",
      "Everything is Ok\n",
      "\n",
      "Folders: 1\n",
      "Files: 2338\n",
      "Size:       6700904894\n",
      "Compressed: 6701393352\n"
     ]
    },
    {
     "data": {
      "application/vnd.jupyter.widget-view+json": {
       "model_id": "",
       "version_major": 2,
       "version_minor": 0
      },
      "text/plain": [
       "HBox(children=(FloatProgress(value=0.0, description='data/in/1810_1819.zip', max=2338.0, style=ProgressStyle(d…"
      ]
     },
     "metadata": {},
     "output_type": "display_data"
    },
    {
     "name": "stdout",
     "output_type": "stream",
     "text": [
      "1800-1809\n",
      "\n",
      "7-Zip [64] 17.04 : Copyright (c) 1999-2021 Igor Pavlov : 2017-08-28\n",
      "p7zip Version 17.04 (locale=utf8,Utf16=on,HugeFiles=on,64 bits,8 CPUs x64)\n",
      "\n",
      "Scanning the drive for archives:\n",
      "1 file, 5153194342 bytes (4915 MiB)\n",
      "\n",
      "Extracting archive: data/in/1800_1809.zip\n",
      "--\n",
      "Path = data/in/1800_1809.zip\n",
      "Type = zip\n",
      "Physical Size = 5153194342\n",
      "64-bit = +\n",
      "Characteristics = Zip64\n",
      "\n",
      "Everything is Ok\n",
      "\n",
      "Folders: 1\n",
      "Files: 1502\n",
      "Size:       5152884050\n",
      "Compressed: 5153194342\n"
     ]
    },
    {
     "data": {
      "application/vnd.jupyter.widget-view+json": {
       "model_id": "",
       "version_major": 2,
       "version_minor": 0
      },
      "text/plain": [
       "HBox(children=(FloatProgress(value=0.0, description='data/in/1800_1809.zip', max=1502.0, style=ProgressStyle(d…"
      ]
     },
     "metadata": {},
     "output_type": "display_data"
    },
    {
     "name": "stdout",
     "output_type": "stream",
     "text": [
      "1700-1799\n",
      "\n",
      "7-Zip [64] 17.04 : Copyright (c) 1999-2021 Igor Pavlov : 2017-08-28\n",
      "p7zip Version 17.04 (locale=utf8,Utf16=on,HugeFiles=on,64 bits,8 CPUs x64)\n",
      "\n",
      "Scanning the drive for archives:\n",
      "1 file, 2458460131 bytes (2345 MiB)\n",
      "\n",
      "Extracting archive: data/in/1700_1799.zip\n",
      "--\n",
      "Path = data/in/1700_1799.zip\n",
      "Type = zip\n",
      "Physical Size = 2458460131\n",
      "\n",
      "Everything is Ok\n",
      "\n",
      "Folders: 1\n",
      "Files: 2070\n",
      "Size:       2458039729\n",
      "Compressed: 2458460131\n"
     ]
    },
    {
     "data": {
      "application/vnd.jupyter.widget-view+json": {
       "model_id": "",
       "version_major": 2,
       "version_minor": 0
      },
      "text/plain": [
       "HBox(children=(FloatProgress(value=0.0, description='data/in/1700_1799.zip', max=2070.0, style=ProgressStyle(d…"
      ]
     },
     "metadata": {},
     "output_type": "display_data"
    },
    {
     "name": "stdout",
     "output_type": "stream",
     "text": [
      "1510-1699\n",
      "\n",
      "7-Zip [64] 17.04 : Copyright (c) 1999-2021 Igor Pavlov : 2017-08-28\n",
      "p7zip Version 17.04 (locale=utf8,Utf16=on,HugeFiles=on,64 bits,8 CPUs x64)\n",
      "\n",
      "Scanning the drive for archives:\n",
      "1 file, 623534017 bytes (595 MiB)\n",
      "\n",
      "Extracting archive: data/in/1510_1699.zip\n",
      "--\n",
      "Path = data/in/1510_1699.zip\n",
      "Type = zip\n",
      "Physical Size = 623534017\n",
      "\n",
      "Everything is Ok\n",
      "\n",
      "Folders: 1\n",
      "Files: 693\n",
      "Size:       623393557\n",
      "Compressed: 623534017\n"
     ]
    },
    {
     "data": {
      "application/vnd.jupyter.widget-view+json": {
       "model_id": "",
       "version_major": 2,
       "version_minor": 0
      },
      "text/plain": [
       "HBox(children=(FloatProgress(value=0.0, description='data/in/1510_1699.zip', max=693.0, style=ProgressStyle(de…"
      ]
     },
     "metadata": {},
     "output_type": "display_data"
    },
    {
     "name": "stdout",
     "output_type": "stream",
     "text": [
      "unkown\n",
      "\n",
      "7-Zip [64] 17.04 : Copyright (c) 1999-2021 Igor Pavlov : 2017-08-28\n",
      "p7zip Version 17.04 (locale=utf8,Utf16=on,HugeFiles=on,64 bits,8 CPUs x64)\n",
      "\n",
      "Scanning the drive for archives:\n",
      "1 file, 1503674253 bytes (1435 MiB)\n",
      "\n",
      "Extracting archive: data/in/unknown.zip\n",
      "--\n",
      "Path = data/in/unknown.zip\n",
      "Type = zip\n",
      "Physical Size = 1503674253\n",
      "\n",
      "Everything is Ok\n",
      "\n",
      "Folders: 1\n",
      "Files: 284\n",
      "Size:       1503617107\n",
      "Compressed: 1503674253\n"
     ]
    },
    {
     "data": {
      "application/vnd.jupyter.widget-view+json": {
       "model_id": "",
       "version_major": 2,
       "version_minor": 0
      },
      "text/plain": [
       "HBox(children=(FloatProgress(value=0.0, description='data/in/unknown.zip', max=284.0, style=ProgressStyle(desc…"
      ]
     },
     "metadata": {},
     "output_type": "display_data"
    },
    {
     "name": "stdout",
     "output_type": "stream",
     "text": [
      "\n"
     ]
    }
   ],
   "source": [
    "for name, url in tqdm(_URLS.items()):\n",
    "    tqdm.write(name)\n",
    "    result = subprocess.run([\"aria2c\", url, \"-d\", path_in, \"-q\"])\n",
    "    file = list(Path(\"data/in\").glob(\"*.zip\"))[0]\n",
    "    out_path = Path(\"data/tmp\")\n",
    "    out_path.mkdir(exist_ok=True)\n",
    "    result = subprocess.run([\"7z\", \"x\", file, f\"-o{out_path}\", \"-y\"])\n",
    "    low_level_zip = list(out_path.rglob(\"*.zip\"))\n",
    "    for z in tqdm(low_level_zip, leave=False, desc=(str(file))):\n",
    "            extract_volume(z, out_path)\n",
    "    shutil.rmtree(out_path)\n",
    "    file.unlink()"
   ]
  },
  {
   "cell_type": "markdown",
   "metadata": {},
   "source": [
    "Check how many files we have"
   ]
  },
  {
   "cell_type": "code",
   "execution_count": 23,
   "metadata": {
    "tags": []
   },
   "outputs": [
    {
     "name": "stdout",
     "output_type": "stream",
     "text": [
      "   48353\n"
     ]
    }
   ],
   "source": [
    "!ls -l {out_json} | wc -l"
   ]
  }
 ],
 "metadata": {
  "colab": {
   "collapsed_sections": [],
   "machine_shape": "hm",
   "name": "Copy of bl_books_playground.ipynb",
   "provenance": []
  },
  "kernelspec": {
   "display_name": "datasets",
   "language": "python",
   "name": "datasets"
  },
  "language_info": {
   "codemirror_mode": {
    "name": "ipython",
    "version": 3
   },
   "file_extension": ".py",
   "mimetype": "text/x-python",
   "name": "python",
   "nbconvert_exporter": "python",
   "pygments_lexer": "ipython3",
   "version": "3.9.6"
  }
 },
 "nbformat": 4,
 "nbformat_minor": 4
}
