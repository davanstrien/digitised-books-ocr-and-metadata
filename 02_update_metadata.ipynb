{
 "cells": [
  {
   "cell_type": "markdown",
   "id": "7caaca56-374b-46bf-9b0e-560765adfc85",
   "metadata": {},
   "source": [
    "# Updating metadata"
   ]
  },
  {
   "cell_type": "markdown",
   "id": "d4099077-fdb2-4264-8b79-94fac0674af2",
   "metadata": {},
   "source": [
    "Metadata isn't static. The metadata we have got via the ALTO XML has sometimes been superseded by new metadata for an item. There is also some additional metadata which we want to include in our jsonl files. We'll use an exported metadata csv to update existing metadata and add some additiional fields that weren't there already. "
   ]
  },
  {
   "cell_type": "code",
   "execution_count": 289,
   "id": "a2e9b284-00f2-4fa3-9b12-a7ec28376379",
   "metadata": {},
   "outputs": [],
   "source": [
    "import json\n",
    "import shutil\n",
    "import numpy as np\n",
    "from pathlib import Path\n",
    "from toolz import itertoolz\n",
    "from itertools import zip_longest\n",
    "from statistics import mean\n",
    "from tqdm.auto import tqdm\n",
    "from statistics import mean\n",
    "import pandas as pd"
   ]
  },
  {
   "cell_type": "code",
   "execution_count": 230,
   "id": "8f874f9e-1bda-4064-a375-cf90a3076661",
   "metadata": {},
   "outputs": [],
   "source": [
    "df_public = pd.read_excel(\n",
    "    \"MS digitised books 2021-01-09.xlsx\", dtype={\"BL record ID\": \"string\"}\n",
    ")"
   ]
  },
  {
   "cell_type": "code",
   "execution_count": 231,
   "id": "1dfb15bb-c5b6-4838-a6d8-6ac32ec3dd86",
   "metadata": {},
   "outputs": [
    {
     "data": {
      "text/html": [
       "<div>\n",
       "<style scoped>\n",
       "    .dataframe tbody tr th:only-of-type {\n",
       "        vertical-align: middle;\n",
       "    }\n",
       "\n",
       "    .dataframe tbody tr th {\n",
       "        vertical-align: top;\n",
       "    }\n",
       "\n",
       "    .dataframe thead th {\n",
       "        text-align: right;\n",
       "    }\n",
       "</style>\n",
       "<table border=\"1\" class=\"dataframe\">\n",
       "  <thead>\n",
       "    <tr style=\"text-align: right;\">\n",
       "      <th></th>\n",
       "      <th>BL record ID</th>\n",
       "      <th>Type of resource</th>\n",
       "      <th>BNB number</th>\n",
       "      <th>ISBN</th>\n",
       "      <th>Name</th>\n",
       "      <th>Dates associated with name</th>\n",
       "      <th>Type of name</th>\n",
       "      <th>Role</th>\n",
       "      <th>All names</th>\n",
       "      <th>Title</th>\n",
       "      <th>...</th>\n",
       "      <th>Publisher</th>\n",
       "      <th>Date of publication</th>\n",
       "      <th>Edition</th>\n",
       "      <th>Physical description</th>\n",
       "      <th>Dewey classification</th>\n",
       "      <th>BL shelfmark</th>\n",
       "      <th>Topics</th>\n",
       "      <th>Genre</th>\n",
       "      <th>Languages</th>\n",
       "      <th>Notes</th>\n",
       "    </tr>\n",
       "  </thead>\n",
       "  <tbody>\n",
       "    <tr>\n",
       "      <th>0</th>\n",
       "      <td>014602826</td>\n",
       "      <td>Monograph</td>\n",
       "      <td>NaN</td>\n",
       "      <td>NaN</td>\n",
       "      <td>Yearsley, Ann</td>\n",
       "      <td>1753-1806</td>\n",
       "      <td>person</td>\n",
       "      <td>NaN</td>\n",
       "      <td>More, Hannah, 1745-1833 [person] ; Yearsley, A...</td>\n",
       "      <td>Poems on several occasions [With a prefatory l...</td>\n",
       "      <td>...</td>\n",
       "      <td>NaN</td>\n",
       "      <td>1786</td>\n",
       "      <td>Fourth edition MANUSCRIPT note</td>\n",
       "      <td>NaN</td>\n",
       "      <td>NaN</td>\n",
       "      <td>Digital Store 11644.d.32</td>\n",
       "      <td>NaN</td>\n",
       "      <td>NaN</td>\n",
       "      <td>English</td>\n",
       "      <td>NaN</td>\n",
       "    </tr>\n",
       "  </tbody>\n",
       "</table>\n",
       "<p>1 rows × 25 columns</p>\n",
       "</div>"
      ],
      "text/plain": [
       "  BL record ID Type of resource  BNB number  ISBN           Name  \\\n",
       "0    014602826        Monograph         NaN   NaN  Yearsley, Ann   \n",
       "\n",
       "  Dates associated with name Type of name Role  \\\n",
       "0                  1753-1806       person  NaN   \n",
       "\n",
       "                                           All names  \\\n",
       "0  More, Hannah, 1745-1833 [person] ; Yearsley, A...   \n",
       "\n",
       "                                               Title  ... Publisher  \\\n",
       "0  Poems on several occasions [With a prefatory l...  ...       NaN   \n",
       "\n",
       "  Date of publication                         Edition Physical description  \\\n",
       "0                1786  Fourth edition MANUSCRIPT note                  NaN   \n",
       "\n",
       "  Dewey classification              BL shelfmark Topics Genre Languages Notes  \n",
       "0                  NaN  Digital Store 11644.d.32    NaN   NaN   English   NaN  \n",
       "\n",
       "[1 rows x 25 columns]"
      ]
     },
     "execution_count": 231,
     "metadata": {},
     "output_type": "execute_result"
    }
   ],
   "source": [
    "df_public.head(1)"
   ]
  },
  {
   "cell_type": "code",
   "execution_count": 232,
   "id": "366b259e-e272-4299-99d8-afe8d40f6d16",
   "metadata": {},
   "outputs": [
    {
     "data": {
      "text/plain": [
       "True"
      ]
     },
     "execution_count": 232,
     "metadata": {},
     "output_type": "execute_result"
    }
   ],
   "source": [
    "len(df_public[\"BL record ID\"].str.len() == 9) == len(df_public)"
   ]
  },
  {
   "cell_type": "code",
   "execution_count": 233,
   "id": "feeb201c-45b3-4ab2-97a6-83e5360d4009",
   "metadata": {},
   "outputs": [],
   "source": [
    "df_marc = pd.read_excel(\n",
    "    \"MS digitised books 2021-01-09.xlsx\", sheet_name=\"Not for release\", skiprows=[0]\n",
    ")"
   ]
  },
  {
   "cell_type": "code",
   "execution_count": 234,
   "id": "058608ed-cfe7-4ab8-807b-6d1c4b6a45a8",
   "metadata": {},
   "outputs": [],
   "source": [
    "df_marc[\"_id\"] = df_marc[\"Digitised Record Match\"].str.split(\" \").str[0]"
   ]
  },
  {
   "cell_type": "code",
   "execution_count": 235,
   "id": "c104828a-f0c2-4b8f-b0c1-5df190801792",
   "metadata": {},
   "outputs": [],
   "source": [
    "df_matcher = df_marc[[\"_id\", \"Control Number\"]]"
   ]
  },
  {
   "cell_type": "code",
   "execution_count": 236,
   "id": "a769d3ac-acae-4e2d-9bb3-47d408c3ce80",
   "metadata": {},
   "outputs": [],
   "source": [
    "df = pd.concat([df_public, df_matcher], axis=1)"
   ]
  },
  {
   "cell_type": "code",
   "execution_count": 237,
   "id": "ed7d0de4-f51f-4db2-abca-0ef765db9078",
   "metadata": {},
   "outputs": [
    {
     "data": {
      "text/html": [
       "<div>\n",
       "<style scoped>\n",
       "    .dataframe tbody tr th:only-of-type {\n",
       "        vertical-align: middle;\n",
       "    }\n",
       "\n",
       "    .dataframe tbody tr th {\n",
       "        vertical-align: top;\n",
       "    }\n",
       "\n",
       "    .dataframe thead th {\n",
       "        text-align: right;\n",
       "    }\n",
       "</style>\n",
       "<table border=\"1\" class=\"dataframe\">\n",
       "  <thead>\n",
       "    <tr style=\"text-align: right;\">\n",
       "      <th></th>\n",
       "      <th>BL record ID</th>\n",
       "      <th>Type of resource</th>\n",
       "      <th>BNB number</th>\n",
       "      <th>ISBN</th>\n",
       "      <th>Name</th>\n",
       "      <th>Dates associated with name</th>\n",
       "      <th>Type of name</th>\n",
       "      <th>Role</th>\n",
       "      <th>All names</th>\n",
       "      <th>Title</th>\n",
       "      <th>...</th>\n",
       "      <th>Edition</th>\n",
       "      <th>Physical description</th>\n",
       "      <th>Dewey classification</th>\n",
       "      <th>BL shelfmark</th>\n",
       "      <th>Topics</th>\n",
       "      <th>Genre</th>\n",
       "      <th>Languages</th>\n",
       "      <th>Notes</th>\n",
       "      <th>_id</th>\n",
       "      <th>Control Number</th>\n",
       "    </tr>\n",
       "  </thead>\n",
       "  <tbody>\n",
       "    <tr>\n",
       "      <th>0</th>\n",
       "      <td>014602826</td>\n",
       "      <td>Monograph</td>\n",
       "      <td>NaN</td>\n",
       "      <td>NaN</td>\n",
       "      <td>Yearsley, Ann</td>\n",
       "      <td>1753-1806</td>\n",
       "      <td>person</td>\n",
       "      <td>NaN</td>\n",
       "      <td>More, Hannah, 1745-1833 [person] ; Yearsley, A...</td>\n",
       "      <td>Poems on several occasions [With a prefatory l...</td>\n",
       "      <td>...</td>\n",
       "      <td>Fourth edition MANUSCRIPT note</td>\n",
       "      <td>NaN</td>\n",
       "      <td>NaN</td>\n",
       "      <td>Digital Store 11644.d.32</td>\n",
       "      <td>NaN</td>\n",
       "      <td>NaN</td>\n",
       "      <td>English</td>\n",
       "      <td>NaN</td>\n",
       "      <td>003996603</td>\n",
       "      <td>14602826</td>\n",
       "    </tr>\n",
       "    <tr>\n",
       "      <th>1</th>\n",
       "      <td>014602830</td>\n",
       "      <td>Monograph</td>\n",
       "      <td>NaN</td>\n",
       "      <td>NaN</td>\n",
       "      <td>A, T.</td>\n",
       "      <td>NaN</td>\n",
       "      <td>person</td>\n",
       "      <td>NaN</td>\n",
       "      <td>Oldham, John, 1653-1683 [person] ; A, T. [person]</td>\n",
       "      <td>A Satyr against Vertue. (A poem: supposed to b...</td>\n",
       "      <td>...</td>\n",
       "      <td>NaN</td>\n",
       "      <td>15 pages (4°)</td>\n",
       "      <td>NaN</td>\n",
       "      <td>Digital Store 11602.ee.10. (2.)</td>\n",
       "      <td>NaN</td>\n",
       "      <td>NaN</td>\n",
       "      <td>English</td>\n",
       "      <td>NaN</td>\n",
       "      <td>000001143</td>\n",
       "      <td>14602830</td>\n",
       "    </tr>\n",
       "    <tr>\n",
       "      <th>2</th>\n",
       "      <td>014602831</td>\n",
       "      <td>Monograph</td>\n",
       "      <td>NaN</td>\n",
       "      <td>NaN</td>\n",
       "      <td>NaN</td>\n",
       "      <td>NaN</td>\n",
       "      <td>NaN</td>\n",
       "      <td>NaN</td>\n",
       "      <td>NaN</td>\n",
       "      <td>The Aeronaut, a poem; founded almost entirely,...</td>\n",
       "      <td>...</td>\n",
       "      <td>NaN</td>\n",
       "      <td>17 pages (8°)</td>\n",
       "      <td>NaN</td>\n",
       "      <td>Digital Store 992.i.12. (3.)</td>\n",
       "      <td>Dublin (Ireland)</td>\n",
       "      <td>NaN</td>\n",
       "      <td>English</td>\n",
       "      <td>NaN</td>\n",
       "      <td>000022782</td>\n",
       "      <td>14602831</td>\n",
       "    </tr>\n",
       "    <tr>\n",
       "      <th>3</th>\n",
       "      <td>014602832</td>\n",
       "      <td>Monograph</td>\n",
       "      <td>NaN</td>\n",
       "      <td>NaN</td>\n",
       "      <td>Albert, Prince Consort, consort of Victoria, Q...</td>\n",
       "      <td>1819-1861</td>\n",
       "      <td>person</td>\n",
       "      <td>NaN</td>\n",
       "      <td>Plimsoll, Joseph [person] ; Albert, Prince Con...</td>\n",
       "      <td>The Prince Albert, a poem [By Joseph Plimsoll.]</td>\n",
       "      <td>...</td>\n",
       "      <td>NaN</td>\n",
       "      <td>16 pages (8°)</td>\n",
       "      <td>NaN</td>\n",
       "      <td>Digital Store 11602.ee.17. (1.)</td>\n",
       "      <td>NaN</td>\n",
       "      <td>NaN</td>\n",
       "      <td>English</td>\n",
       "      <td>NaN</td>\n",
       "      <td>000039775</td>\n",
       "      <td>14602832</td>\n",
       "    </tr>\n",
       "    <tr>\n",
       "      <th>4</th>\n",
       "      <td>014602833</td>\n",
       "      <td>Monograph</td>\n",
       "      <td>NaN</td>\n",
       "      <td>NaN</td>\n",
       "      <td>Anslow, Robert</td>\n",
       "      <td>NaN</td>\n",
       "      <td>person</td>\n",
       "      <td>NaN</td>\n",
       "      <td>Anslow, Robert [person]</td>\n",
       "      <td>The Defeat of the Spanish Armada, A.D. 1588. A...</td>\n",
       "      <td>...</td>\n",
       "      <td>NaN</td>\n",
       "      <td>40 pages (8°)</td>\n",
       "      <td>NaN</td>\n",
       "      <td>Digital Store 11602.ee.17. (7.)</td>\n",
       "      <td>NaN</td>\n",
       "      <td>NaN</td>\n",
       "      <td>English</td>\n",
       "      <td>NaN</td>\n",
       "      <td>000092666</td>\n",
       "      <td>14602833</td>\n",
       "    </tr>\n",
       "    <tr>\n",
       "      <th>...</th>\n",
       "      <td>...</td>\n",
       "      <td>...</td>\n",
       "      <td>...</td>\n",
       "      <td>...</td>\n",
       "      <td>...</td>\n",
       "      <td>...</td>\n",
       "      <td>...</td>\n",
       "      <td>...</td>\n",
       "      <td>...</td>\n",
       "      <td>...</td>\n",
       "      <td>...</td>\n",
       "      <td>...</td>\n",
       "      <td>...</td>\n",
       "      <td>...</td>\n",
       "      <td>...</td>\n",
       "      <td>...</td>\n",
       "      <td>...</td>\n",
       "      <td>...</td>\n",
       "      <td>...</td>\n",
       "      <td>...</td>\n",
       "      <td>...</td>\n",
       "    </tr>\n",
       "    <tr>\n",
       "      <th>52690</th>\n",
       "      <td>016289058</td>\n",
       "      <td>Monograph</td>\n",
       "      <td>NaN</td>\n",
       "      <td>NaN</td>\n",
       "      <td>Dickens, Charles</td>\n",
       "      <td>1812-1870</td>\n",
       "      <td>person</td>\n",
       "      <td>NaN</td>\n",
       "      <td>Dickens, Charles, 1812-1870 [person]</td>\n",
       "      <td>The posthumous papers of the Pickwick Club</td>\n",
       "      <td>...</td>\n",
       "      <td>NaN</td>\n",
       "      <td>xvi, 610 pages, illustrations, 20 cm</td>\n",
       "      <td>823.8</td>\n",
       "      <td>NaN</td>\n",
       "      <td>England--Social life and customs--19th century...</td>\n",
       "      <td>NaN</td>\n",
       "      <td>English</td>\n",
       "      <td>Spine title: The Pickwick papers</td>\n",
       "      <td>008594906</td>\n",
       "      <td>16289058</td>\n",
       "    </tr>\n",
       "    <tr>\n",
       "      <th>52691</th>\n",
       "      <td>016289059</td>\n",
       "      <td>Serial</td>\n",
       "      <td>NaN</td>\n",
       "      <td>NaN</td>\n",
       "      <td>NaN</td>\n",
       "      <td>NaN</td>\n",
       "      <td>NaN</td>\n",
       "      <td>NaN</td>\n",
       "      <td>NaN</td>\n",
       "      <td>TRUE STORY CLASSICS</td>\n",
       "      <td>...</td>\n",
       "      <td>NaN</td>\n",
       "      <td>NaN</td>\n",
       "      <td>NaN</td>\n",
       "      <td>NaN</td>\n",
       "      <td>NaN</td>\n",
       "      <td>NaN</td>\n",
       "      <td>English</td>\n",
       "      <td>NaN</td>\n",
       "      <td>011143842</td>\n",
       "      <td>16289059</td>\n",
       "    </tr>\n",
       "    <tr>\n",
       "      <th>52692</th>\n",
       "      <td>016289060</td>\n",
       "      <td>Monograph</td>\n",
       "      <td>NaN</td>\n",
       "      <td>NaN</td>\n",
       "      <td>Wellesley, Dorothy</td>\n",
       "      <td>1889-1956</td>\n",
       "      <td>person</td>\n",
       "      <td>NaN</td>\n",
       "      <td>Wellesley, Dorothy, 1889-1956 [person]</td>\n",
       "      <td>Early Poems. By M. A [i.e. Dorothy Violet Well...</td>\n",
       "      <td>...</td>\n",
       "      <td>NaN</td>\n",
       "      <td>vii, 90 pages (8°)</td>\n",
       "      <td>NaN</td>\n",
       "      <td>Digital Store 011649.eee.17</td>\n",
       "      <td>NaN</td>\n",
       "      <td>NaN</td>\n",
       "      <td>English</td>\n",
       "      <td>NaN</td>\n",
       "      <td>000000839</td>\n",
       "      <td>16289060</td>\n",
       "    </tr>\n",
       "    <tr>\n",
       "      <th>52693</th>\n",
       "      <td>016289061</td>\n",
       "      <td>Monograph</td>\n",
       "      <td>NaN</td>\n",
       "      <td>NaN</td>\n",
       "      <td>A, T. H. E.</td>\n",
       "      <td>NaN</td>\n",
       "      <td>person</td>\n",
       "      <td>NaN</td>\n",
       "      <td>A, T. H. E. [person]</td>\n",
       "      <td>Of Life and Love [Poems.] By T. H. E. A, write...</td>\n",
       "      <td>...</td>\n",
       "      <td>NaN</td>\n",
       "      <td>89 pages (8°)</td>\n",
       "      <td>NaN</td>\n",
       "      <td>Digital Store 011645.e.125</td>\n",
       "      <td>NaN</td>\n",
       "      <td>NaN</td>\n",
       "      <td>English</td>\n",
       "      <td>NaN</td>\n",
       "      <td>000001167</td>\n",
       "      <td>16289061</td>\n",
       "    </tr>\n",
       "    <tr>\n",
       "      <th>52694</th>\n",
       "      <td>016289062</td>\n",
       "      <td>Monograph</td>\n",
       "      <td>NaN</td>\n",
       "      <td>NaN</td>\n",
       "      <td>Abbay, Richard</td>\n",
       "      <td>NaN</td>\n",
       "      <td>person</td>\n",
       "      <td>NaN</td>\n",
       "      <td>Abbay, Richard [person]</td>\n",
       "      <td>Life, a Mode of Motion; or, He and I, my two s...</td>\n",
       "      <td>...</td>\n",
       "      <td>NaN</td>\n",
       "      <td>volumes, 58 pages (8°)</td>\n",
       "      <td>NaN</td>\n",
       "      <td>Digital Store 011649.g.81</td>\n",
       "      <td>NaN</td>\n",
       "      <td>NaN</td>\n",
       "      <td>English</td>\n",
       "      <td>NaN</td>\n",
       "      <td>000003140</td>\n",
       "      <td>16289062</td>\n",
       "    </tr>\n",
       "  </tbody>\n",
       "</table>\n",
       "<p>52695 rows × 27 columns</p>\n",
       "</div>"
      ],
      "text/plain": [
       "      BL record ID Type of resource  BNB number  ISBN  \\\n",
       "0        014602826        Monograph         NaN   NaN   \n",
       "1        014602830        Monograph         NaN   NaN   \n",
       "2        014602831        Monograph         NaN   NaN   \n",
       "3        014602832        Monograph         NaN   NaN   \n",
       "4        014602833        Monograph         NaN   NaN   \n",
       "...            ...              ...         ...   ...   \n",
       "52690    016289058        Monograph         NaN   NaN   \n",
       "52691    016289059           Serial         NaN   NaN   \n",
       "52692    016289060        Monograph         NaN   NaN   \n",
       "52693    016289061        Monograph         NaN   NaN   \n",
       "52694    016289062        Monograph         NaN   NaN   \n",
       "\n",
       "                                                    Name  \\\n",
       "0                                          Yearsley, Ann   \n",
       "1                                                  A, T.   \n",
       "2                                                    NaN   \n",
       "3      Albert, Prince Consort, consort of Victoria, Q...   \n",
       "4                                         Anslow, Robert   \n",
       "...                                                  ...   \n",
       "52690                                   Dickens, Charles   \n",
       "52691                                                NaN   \n",
       "52692                                 Wellesley, Dorothy   \n",
       "52693                                        A, T. H. E.   \n",
       "52694                                     Abbay, Richard   \n",
       "\n",
       "      Dates associated with name Type of name Role  \\\n",
       "0                      1753-1806       person  NaN   \n",
       "1                            NaN       person  NaN   \n",
       "2                            NaN          NaN  NaN   \n",
       "3                      1819-1861       person  NaN   \n",
       "4                            NaN       person  NaN   \n",
       "...                          ...          ...  ...   \n",
       "52690                  1812-1870       person  NaN   \n",
       "52691                        NaN          NaN  NaN   \n",
       "52692                  1889-1956       person  NaN   \n",
       "52693                        NaN       person  NaN   \n",
       "52694                        NaN       person  NaN   \n",
       "\n",
       "                                               All names  \\\n",
       "0      More, Hannah, 1745-1833 [person] ; Yearsley, A...   \n",
       "1      Oldham, John, 1653-1683 [person] ; A, T. [person]   \n",
       "2                                                    NaN   \n",
       "3      Plimsoll, Joseph [person] ; Albert, Prince Con...   \n",
       "4                                Anslow, Robert [person]   \n",
       "...                                                  ...   \n",
       "52690               Dickens, Charles, 1812-1870 [person]   \n",
       "52691                                                NaN   \n",
       "52692             Wellesley, Dorothy, 1889-1956 [person]   \n",
       "52693                               A, T. H. E. [person]   \n",
       "52694                            Abbay, Richard [person]   \n",
       "\n",
       "                                                   Title  ...  \\\n",
       "0      Poems on several occasions [With a prefatory l...  ...   \n",
       "1      A Satyr against Vertue. (A poem: supposed to b...  ...   \n",
       "2      The Aeronaut, a poem; founded almost entirely,...  ...   \n",
       "3        The Prince Albert, a poem [By Joseph Plimsoll.]  ...   \n",
       "4      The Defeat of the Spanish Armada, A.D. 1588. A...  ...   \n",
       "...                                                  ...  ...   \n",
       "52690         The posthumous papers of the Pickwick Club  ...   \n",
       "52691                                TRUE STORY CLASSICS  ...   \n",
       "52692  Early Poems. By M. A [i.e. Dorothy Violet Well...  ...   \n",
       "52693  Of Life and Love [Poems.] By T. H. E. A, write...  ...   \n",
       "52694  Life, a Mode of Motion; or, He and I, my two s...  ...   \n",
       "\n",
       "                              Edition                  Physical description  \\\n",
       "0      Fourth edition MANUSCRIPT note                                   NaN   \n",
       "1                                 NaN                         15 pages (4°)   \n",
       "2                                 NaN                         17 pages (8°)   \n",
       "3                                 NaN                         16 pages (8°)   \n",
       "4                                 NaN                         40 pages (8°)   \n",
       "...                               ...                                   ...   \n",
       "52690                             NaN  xvi, 610 pages, illustrations, 20 cm   \n",
       "52691                             NaN                                   NaN   \n",
       "52692                             NaN                    vii, 90 pages (8°)   \n",
       "52693                             NaN                         89 pages (8°)   \n",
       "52694                             NaN                volumes, 58 pages (8°)   \n",
       "\n",
       "      Dewey classification                     BL shelfmark  \\\n",
       "0                      NaN         Digital Store 11644.d.32   \n",
       "1                      NaN  Digital Store 11602.ee.10. (2.)   \n",
       "2                      NaN     Digital Store 992.i.12. (3.)   \n",
       "3                      NaN  Digital Store 11602.ee.17. (1.)   \n",
       "4                      NaN  Digital Store 11602.ee.17. (7.)   \n",
       "...                    ...                              ...   \n",
       "52690                823.8                              NaN   \n",
       "52691                  NaN                              NaN   \n",
       "52692                  NaN      Digital Store 011649.eee.17   \n",
       "52693                  NaN       Digital Store 011645.e.125   \n",
       "52694                  NaN        Digital Store 011649.g.81   \n",
       "\n",
       "                                                  Topics Genre Languages  \\\n",
       "0                                                    NaN   NaN   English   \n",
       "1                                                    NaN   NaN   English   \n",
       "2                                       Dublin (Ireland)   NaN   English   \n",
       "3                                                    NaN   NaN   English   \n",
       "4                                                    NaN   NaN   English   \n",
       "...                                                  ...   ...       ...   \n",
       "52690  England--Social life and customs--19th century...   NaN   English   \n",
       "52691                                                NaN   NaN   English   \n",
       "52692                                                NaN   NaN   English   \n",
       "52693                                                NaN   NaN   English   \n",
       "52694                                                NaN   NaN   English   \n",
       "\n",
       "                                  Notes        _id Control Number  \n",
       "0                                   NaN  003996603       14602826  \n",
       "1                                   NaN  000001143       14602830  \n",
       "2                                   NaN  000022782       14602831  \n",
       "3                                   NaN  000039775       14602832  \n",
       "4                                   NaN  000092666       14602833  \n",
       "...                                 ...        ...            ...  \n",
       "52690  Spine title: The Pickwick papers  008594906       16289058  \n",
       "52691                               NaN  011143842       16289059  \n",
       "52692                               NaN  000000839       16289060  \n",
       "52693                               NaN  000001167       16289061  \n",
       "52694                               NaN  000003140       16289062  \n",
       "\n",
       "[52695 rows x 27 columns]"
      ]
     },
     "execution_count": 237,
     "metadata": {},
     "output_type": "execute_result"
    }
   ],
   "source": [
    "df[df[\"BL record ID\"] != df[\"Control Number\"]]"
   ]
  },
  {
   "cell_type": "code",
   "execution_count": 238,
   "id": "705ddc47-ac4d-4a8d-8b0b-8cf22989d333",
   "metadata": {},
   "outputs": [],
   "source": [
    "def try_get_meta(file):\n",
    "    with open(file, \"rb\") as f:\n",
    "        data = json.loads(f.readline())\n",
    "        record_id = data[\"record_id\"]\n",
    "        m = df[df[\"_id\"].str.contains(record_id)]\n",
    "        if len(m) > 0:\n",
    "            return m\n",
    "        return None"
   ]
  },
  {
   "cell_type": "code",
   "execution_count": 239,
   "id": "4aca46d2-7b30-4dd9-b99c-0559b32c5da0",
   "metadata": {},
   "outputs": [
    {
     "data": {
      "text/html": [
       "<div>\n",
       "<style scoped>\n",
       "    .dataframe tbody tr th:only-of-type {\n",
       "        vertical-align: middle;\n",
       "    }\n",
       "\n",
       "    .dataframe tbody tr th {\n",
       "        vertical-align: top;\n",
       "    }\n",
       "\n",
       "    .dataframe thead th {\n",
       "        text-align: right;\n",
       "    }\n",
       "</style>\n",
       "<table border=\"1\" class=\"dataframe\">\n",
       "  <thead>\n",
       "    <tr style=\"text-align: right;\">\n",
       "      <th></th>\n",
       "      <th>BL record ID</th>\n",
       "      <th>Type of resource</th>\n",
       "      <th>BNB number</th>\n",
       "      <th>ISBN</th>\n",
       "      <th>Name</th>\n",
       "      <th>Dates associated with name</th>\n",
       "      <th>Type of name</th>\n",
       "      <th>Role</th>\n",
       "      <th>All names</th>\n",
       "      <th>Title</th>\n",
       "      <th>...</th>\n",
       "      <th>Edition</th>\n",
       "      <th>Physical description</th>\n",
       "      <th>Dewey classification</th>\n",
       "      <th>BL shelfmark</th>\n",
       "      <th>Topics</th>\n",
       "      <th>Genre</th>\n",
       "      <th>Languages</th>\n",
       "      <th>Notes</th>\n",
       "      <th>_id</th>\n",
       "      <th>Control Number</th>\n",
       "    </tr>\n",
       "  </thead>\n",
       "  <tbody>\n",
       "    <tr>\n",
       "      <th>21193</th>\n",
       "      <td>014823461</td>\n",
       "      <td>Monograph</td>\n",
       "      <td>NaN</td>\n",
       "      <td>NaN</td>\n",
       "      <td>NaN</td>\n",
       "      <td>NaN</td>\n",
       "      <td>NaN</td>\n",
       "      <td>NaN</td>\n",
       "      <td>NaN</td>\n",
       "      <td>The Penny Library of Famous Books</td>\n",
       "      <td>...</td>\n",
       "      <td>NaN</td>\n",
       "      <td>177 no (8°)</td>\n",
       "      <td>NaN</td>\n",
       "      <td>Digital Store 012601.l.24</td>\n",
       "      <td>NaN</td>\n",
       "      <td>NaN</td>\n",
       "      <td>English</td>\n",
       "      <td>NaN</td>\n",
       "      <td>002816907</td>\n",
       "      <td>14823461</td>\n",
       "    </tr>\n",
       "  </tbody>\n",
       "</table>\n",
       "<p>1 rows × 27 columns</p>\n",
       "</div>"
      ],
      "text/plain": [
       "      BL record ID Type of resource  BNB number  ISBN Name  \\\n",
       "21193    014823461        Monograph         NaN   NaN  NaN   \n",
       "\n",
       "      Dates associated with name Type of name Role All names  \\\n",
       "21193                        NaN          NaN  NaN       NaN   \n",
       "\n",
       "                                   Title  ... Edition Physical description  \\\n",
       "21193  The Penny Library of Famous Books  ...     NaN          177 no (8°)   \n",
       "\n",
       "      Dewey classification               BL shelfmark Topics Genre Languages  \\\n",
       "21193                  NaN  Digital Store 012601.l.24    NaN   NaN   English   \n",
       "\n",
       "      Notes        _id Control Number  \n",
       "21193   NaN  002816907       14823461  \n",
       "\n",
       "[1 rows x 27 columns]"
      ]
     },
     "execution_count": 239,
     "metadata": {},
     "output_type": "execute_result"
    }
   ],
   "source": [
    "df[df[\"_id\"].str.contains(\"002816907\")]"
   ]
  },
  {
   "cell_type": "code",
   "execution_count": 240,
   "id": "5cf3b884-853a-4969-8417-bb95021c7b14",
   "metadata": {},
   "outputs": [],
   "source": [
    "json_files = [f for f in Path(\"data/json\").rglob(\"*.jsonl\")]"
   ]
  },
  {
   "cell_type": "code",
   "execution_count": null,
   "id": "755131f1-73f0-4297-8c2b-62ed99b98453",
   "metadata": {},
   "outputs": [],
   "source": []
  },
  {
   "cell_type": "code",
   "execution_count": 241,
   "id": "a44837d5-2d53-4c05-8036-b7a2c4905033",
   "metadata": {},
   "outputs": [],
   "source": [
    "field_to_replace = [\n",
    "    \"Title\",\n",
    "    \"Date of publication\",\n",
    "    \"Place of publication\",\n",
    "]\n",
    "fields_to_add = [\n",
    "    \"Name\",\n",
    "    \"All names\",\n",
    "    \"Languages\",\n",
    "    \"Physical description\",\n",
    "    \"Country of publication\",\n",
    "    \"Publisher\",\n",
    "]"
   ]
  },
  {
   "cell_type": "code",
   "execution_count": null,
   "id": "313f6835-966d-4978-91de-6d8f682999e8",
   "metadata": {},
   "outputs": [],
   "source": []
  },
  {
   "cell_type": "markdown",
   "id": "cb5a6d17-b994-49e9-8c37-d5999bc0f6d3",
   "metadata": {},
   "source": [
    "## Metadata fields to replace"
   ]
  },
  {
   "cell_type": "code",
   "execution_count": null,
   "id": "df2c5ca7-209f-40fc-9a15-91a2fd273c2b",
   "metadata": {},
   "outputs": [],
   "source": []
  },
  {
   "cell_type": "code",
   "execution_count": null,
   "id": "1a91d542-a2a2-47f3-8ad1-041cd4670c65",
   "metadata": {},
   "outputs": [],
   "source": []
  },
  {
   "cell_type": "code",
   "execution_count": 242,
   "id": "72bd7f54-15b4-4fbc-a949-7b77728f7adc",
   "metadata": {},
   "outputs": [],
   "source": [
    "# new_meta[\"title\"] = new_meta.pop(\"Title\")\n",
    "# new_meta[\"date\"] = new_meta.pop(\"Date of publication\")\n",
    "# new_meta[\"place\"] = new_meta.pop(\"Place of publication\")"
   ]
  },
  {
   "cell_type": "code",
   "execution_count": null,
   "id": "36d42074-6fd8-4e6b-83c0-979f109b31dc",
   "metadata": {},
   "outputs": [],
   "source": []
  },
  {
   "cell_type": "code",
   "execution_count": 243,
   "id": "75cc4cd9-3228-4327-8dc5-19ff1478943f",
   "metadata": {},
   "outputs": [],
   "source": [
    "def process_date(date):\n",
    "    if date is np.nan:\n",
    "        return {\"date\": None, \"raw_date\": None}\n",
    "    elif len(date) == 4:\n",
    "        return {\"date\": date, \"raw_date\": date}\n",
    "    elif len(date) == 5:\n",
    "        return {\"date\": date.strip(\"-\"), \"raw_date\": date}\n",
    "    elif len(date) == 9:\n",
    "        dates = date.split(\"-\")\n",
    "        dates = [int(date) for date in dates]\n",
    "        mean_date = round(mean(dates))\n",
    "        return {\"date\": mean_date, \"raw_date\": date}"
   ]
  },
  {
   "cell_type": "code",
   "execution_count": 244,
   "id": "3dbbc0a1-1600-409a-850b-871b871af425",
   "metadata": {},
   "outputs": [
    {
     "data": {
      "text/plain": [
       "{'date': None, 'raw_date': None}"
      ]
     },
     "execution_count": 244,
     "metadata": {},
     "output_type": "execute_result"
    }
   ],
   "source": [
    "process_date(np.nan)"
   ]
  },
  {
   "cell_type": "code",
   "execution_count": 245,
   "id": "719e933b-58d3-4535-81f9-e9d35130a144",
   "metadata": {},
   "outputs": [
    {
     "data": {
      "text/plain": [
       "{'date': '1860', 'raw_date': '1860'}"
      ]
     },
     "execution_count": 245,
     "metadata": {},
     "output_type": "execute_result"
    }
   ],
   "source": [
    "process_date(\"1860\")"
   ]
  },
  {
   "cell_type": "code",
   "execution_count": 246,
   "id": "43c3fa54-0e33-4aa0-b832-1200647bec19",
   "metadata": {},
   "outputs": [
    {
     "data": {
      "text/plain": [
       "{'date': '1860', 'raw_date': '1860-'}"
      ]
     },
     "execution_count": 246,
     "metadata": {},
     "output_type": "execute_result"
    }
   ],
   "source": [
    "process_date(\"1860-\")"
   ]
  },
  {
   "cell_type": "code",
   "execution_count": 247,
   "id": "fbf91b80-6d4a-4cc0-8661-51516c1cabdb",
   "metadata": {},
   "outputs": [],
   "source": [
    "raw_date = \"1850-1860\"\n",
    "date_dict = process_date(raw_date)\n",
    "assert date_dict[\"date\"] == 1855\n",
    "assert date_dict[\"raw_date\"] == raw_date"
   ]
  },
  {
   "cell_type": "code",
   "execution_count": 248,
   "id": "de85f95d-3dbb-4759-a5bc-1d9dc21600a5",
   "metadata": {},
   "outputs": [
    {
     "data": {
      "text/plain": [
       "{'date': 1855, 'raw_date': '1850-1860'}"
      ]
     },
     "execution_count": 248,
     "metadata": {},
     "output_type": "execute_result"
    }
   ],
   "source": [
    "process_date(raw_date)"
   ]
  },
  {
   "cell_type": "code",
   "execution_count": 249,
   "id": "a85d0e4b-5e43-4ba7-a095-cf1cf14dfbe4",
   "metadata": {},
   "outputs": [],
   "source": [
    "default_language_dict = {\n",
    "    \"Language_1\": None,\n",
    "    \"Language_2\": None,\n",
    "    \"Language_3\": None,\n",
    "    \"Language_4\": None,\n",
    "    \"multi_language\": False,\n",
    "}"
   ]
  },
  {
   "cell_type": "code",
   "execution_count": 250,
   "id": "a9da7193-b3c5-43cd-8d75-3996dda3ccee",
   "metadata": {},
   "outputs": [
    {
     "data": {
      "text/plain": [
       "['Language_1', 'Language_2', 'Language_3', 'Language_4', 'multi_language']"
      ]
     },
     "execution_count": 250,
     "metadata": {},
     "output_type": "execute_result"
    }
   ],
   "source": [
    "list(default_language_dict.keys())"
   ]
  },
  {
   "cell_type": "code",
   "execution_count": null,
   "id": "04b4b535-53ab-44c9-a020-affca36bc4ba",
   "metadata": {},
   "outputs": [],
   "source": []
  },
  {
   "cell_type": "code",
   "execution_count": 251,
   "id": "d1b6091a-6266-4116-b597-aaf4d77aa179",
   "metadata": {},
   "outputs": [],
   "source": [
    "# from collections import defaultdict"
   ]
  },
  {
   "cell_type": "code",
   "execution_count": 252,
   "id": "f9dcd1ae-782f-4eaf-b340-dfb81ca7c45b",
   "metadata": {},
   "outputs": [],
   "source": [
    "# lang = defaultdict(lambda x: None)"
   ]
  },
  {
   "cell_type": "code",
   "execution_count": 253,
   "id": "403de6eb-f7f0-4fb0-954d-45decadf9920",
   "metadata": {},
   "outputs": [
    {
     "data": {
      "text/plain": [
       "['Language_1', 'Language_2', 'Language_3', 'Language_4', 'multi_language']"
      ]
     },
     "execution_count": 253,
     "metadata": {},
     "output_type": "execute_result"
    }
   ],
   "source": [
    "language_keys = list(default_language_dict.keys())\n",
    "language_keys"
   ]
  },
  {
   "cell_type": "code",
   "execution_count": 254,
   "id": "e912fce7-02d5-400f-a0fc-61e1a81b2606",
   "metadata": {},
   "outputs": [],
   "source": [
    "def process_languages(languages):\n",
    "    multi_language = False\n",
    "    if languages is not np.nan:\n",
    "        languages = languages.split(\";\")\n",
    "        languages = [language.strip(\" \") for language in languages]\n",
    "        if len(languages) > 1:\n",
    "            multi_language = True\n",
    "        language_dict = {\n",
    "            key: lang for (key, lang) in zip_longest(language_keys, languages)\n",
    "        }\n",
    "        return {**language_dict, **{\"multi_language\": multi_language}}\n",
    "    else:\n",
    "        language_dict = {key: None for key in language_keys}\n",
    "        return {**language_dict, **{\"multi_language\": multi_language}}"
   ]
  },
  {
   "cell_type": "code",
   "execution_count": null,
   "id": "d11e6045-f62a-469e-9b87-a7e5d7623d1c",
   "metadata": {},
   "outputs": [],
   "source": []
  },
  {
   "cell_type": "markdown",
   "id": "aa092659-5c57-4801-816d-1ff27f1e5f85",
   "metadata": {},
   "source": [
    "### Process country of publication"
   ]
  },
  {
   "cell_type": "code",
   "execution_count": 255,
   "id": "e2649243-7a08-4e14-a0f2-c3ae5c36d70a",
   "metadata": {},
   "outputs": [
    {
     "data": {
      "text/plain": [
       "{'Country of publication 1': 'England',\n",
       " 'All Countries of publication': ['England', 'Ireland', 'Norther Ireland']}"
      ]
     },
     "execution_count": 255,
     "metadata": {},
     "output_type": "execute_result"
    }
   ],
   "source": [
    "{\n",
    "    \"Country of publication 1\": \"England\",\n",
    "    \"All Countries of publication\": [\"England\", \"Ireland\", \"Norther Ireland\"],\n",
    "}"
   ]
  },
  {
   "cell_type": "code",
   "execution_count": 256,
   "id": "94333bc9-7abf-4f2f-97d3-0fb4b8e6fd83",
   "metadata": {},
   "outputs": [],
   "source": [
    "def process_country(country):\n",
    "    if country is not np.nan:\n",
    "        countries = country.split(\";\")\n",
    "        countries_dict = {\n",
    "            \"Country of publication 1\": countries[0],\n",
    "            \"All Countries of publication\": country,\n",
    "        }\n",
    "        return countries_dict\n",
    "    else:\n",
    "        return {\"Country of publication 1\": None, \"All Countries of publication\": None}"
   ]
  },
  {
   "cell_type": "code",
   "execution_count": 257,
   "id": "ed3b652a-81e7-413e-bfc9-bf00d51114fc",
   "metadata": {},
   "outputs": [
    {
     "data": {
      "text/plain": [
       "{'Country of publication 1': None, 'All Countries of publication': None}"
      ]
     },
     "execution_count": 257,
     "metadata": {},
     "output_type": "execute_result"
    }
   ],
   "source": [
    "process_country(np.nan)"
   ]
  },
  {
   "cell_type": "code",
   "execution_count": 258,
   "id": "df640332-1f0c-47d6-bec9-592ec40fce3d",
   "metadata": {},
   "outputs": [
    {
     "data": {
      "text/plain": [
       "{'Country of publication 1': 'England',\n",
       " 'All Countries of publication': 'England; Wales'}"
      ]
     },
     "execution_count": 258,
     "metadata": {},
     "output_type": "execute_result"
    }
   ],
   "source": [
    "process_country(\"England; Wales\")"
   ]
  },
  {
   "cell_type": "code",
   "execution_count": 259,
   "id": "a7ccbbf5-0cfa-47c5-a7cf-c010e6807898",
   "metadata": {},
   "outputs": [],
   "source": [
    "from toolz.dicttoolz import valfilter, update_in"
   ]
  },
  {
   "cell_type": "code",
   "execution_count": 260,
   "id": "c729f2bf-e520-4e54-90ec-acce1c9e0ddf",
   "metadata": {},
   "outputs": [],
   "source": [
    "def replace_nan_with_none(dictionary):\n",
    "    keys = list(valfilter(lambda x: x is np.nan, dictionary).keys())\n",
    "    for key in keys:\n",
    "        dictionary[key] = None\n",
    "    return dictionary"
   ]
  },
  {
   "cell_type": "code",
   "execution_count": null,
   "id": "9e39f7bb-25cf-4d47-ad85-f8c2003aad7c",
   "metadata": {},
   "outputs": [],
   "source": []
  },
  {
   "cell_type": "markdown",
   "id": "527c02d4-524b-4a59-9846-7ba266470ed4",
   "metadata": {},
   "source": [
    "### Put keys in the order we want"
   ]
  },
  {
   "cell_type": "code",
   "execution_count": 261,
   "id": "6fc97f89-c77f-41d1-83a5-d026d04f0c65",
   "metadata": {},
   "outputs": [],
   "source": [
    "def sort_dictionary_to_key_order(dictionary, key_order):\n",
    "    return {k: dictionary[k] for k in key_order}"
   ]
  },
  {
   "cell_type": "code",
   "execution_count": 262,
   "id": "4ea079ec-19a9-457e-b054-56a8df7306e3",
   "metadata": {},
   "outputs": [],
   "source": [
    "empty_language_dict = {\n",
    "    \"Language_1\": None,\n",
    "    \"Language_2\": None,\n",
    "    \"Language_3\": None,\n",
    "    \"Language_4\": None,\n",
    "    \"multi_language\": False,\n",
    "}"
   ]
  },
  {
   "cell_type": "code",
   "execution_count": 263,
   "id": "d0deb465-2447-40b7-bc7a-7a75ad611570",
   "metadata": {},
   "outputs": [],
   "source": [
    "empty_country_dict = {\n",
    "    \"Country of publication 1\": None,\n",
    "    \"All Countries of publication\": None,\n",
    "}"
   ]
  },
  {
   "cell_type": "code",
   "execution_count": 264,
   "id": "f2fdc8fc-dc5c-40c1-a415-1d5708b90c3e",
   "metadata": {},
   "outputs": [
    {
     "data": {
      "text/plain": [
       "{'Name': None,\n",
       " 'All names': None,\n",
       " 'Languages': None,\n",
       " 'Physical description': None,\n",
       " 'Country of publication': None,\n",
       " 'Publisher': None,\n",
       " 'Language_1': None,\n",
       " 'Language_2': None,\n",
       " 'Language_3': None,\n",
       " 'Language_4': None,\n",
       " 'multi_language': False,\n",
       " 'Country of publication 1': None,\n",
       " 'All Countries of publication': None}"
      ]
     },
     "execution_count": 264,
     "metadata": {},
     "output_type": "execute_result"
    }
   ],
   "source": [
    "new_meta_to_add_if_empty = {k: None for k in fields_to_add}\n",
    "new_meta_if_empty = {**new_meta_to_add_if_empty, **empty_language_dict}\n",
    "new_meta_if_empty = {**new_meta_if_empty, **empty_country_dict}\n",
    "new_meta_if_empty"
   ]
  },
  {
   "cell_type": "code",
   "execution_count": 265,
   "id": "d581ad79-c961-4f0c-ba41-2cc50ba2c1af",
   "metadata": {},
   "outputs": [],
   "source": [
    "new_meta_if_empty.update({\"raw_date\": None})"
   ]
  },
  {
   "cell_type": "code",
   "execution_count": 266,
   "id": "423894ab-5b79-43a6-be75-f5c7bdf853dd",
   "metadata": {},
   "outputs": [],
   "source": [
    "def try_get_meta(file):\n",
    "    with open(file, \"rb\") as f:\n",
    "        data = json.loads(f.readline())\n",
    "        record_id = data[\"record_id\"]\n",
    "        m = df[df[\"_id\"].str.contains(record_id)]\n",
    "        if len(m) > 0:\n",
    "            return m\n",
    "        return None"
   ]
  },
  {
   "cell_type": "code",
   "execution_count": 267,
   "id": "b014725c-f0b1-4a6d-a425-63917877bfc8",
   "metadata": {},
   "outputs": [],
   "source": [
    "def process_updated_metadata(metadata: pd.DataFrame):\n",
    "    metadata_to_update = metadata[field_to_replace].to_dict(\"records\")[0]\n",
    "    metadata_to_update[\"title\"] = metadata_to_update.pop(\"Title\")\n",
    "    metadata_to_update[\"date\"] = metadata_to_update.pop(\"Date of publication\")\n",
    "    metadata_to_update[\"place\"] = metadata_to_update.pop(\"Place of publication\")\n",
    "    process_date(metadata_to_update[\"date\"])\n",
    "    return {**metadata_to_update, **process_date(metadata_to_update[\"date\"])}"
   ]
  },
  {
   "cell_type": "code",
   "execution_count": null,
   "id": "b6cb0923-4d7c-4b81-82e4-f56c236ee08b",
   "metadata": {},
   "outputs": [],
   "source": []
  },
  {
   "cell_type": "code",
   "execution_count": null,
   "id": "b9da4559-ba2e-4544-a906-5efedb470c7c",
   "metadata": {},
   "outputs": [],
   "source": []
  },
  {
   "cell_type": "code",
   "execution_count": 268,
   "id": "d065cb09-f140-4c44-9314-021328109c7e",
   "metadata": {},
   "outputs": [],
   "source": [
    "def process_additional_metadata(metadata: pd.DataFrame):\n",
    "    additional_metadata = metadata[fields_to_add].to_dict(\"records\")[0]\n",
    "    languages = process_languages(additional_metadata[\"Languages\"])\n",
    "    additional_metadata.pop(\"Languages\")\n",
    "    additional_metadata = {**additional_metadata, **languages}\n",
    "    countries = process_country(additional_metadata[\"Country of publication\"])\n",
    "    additional_metadata.pop(\"Country of publication\")\n",
    "    additional_metadata = {**additional_metadata, **countries}\n",
    "    additional_metadata = replace_nan_with_none(additional_metadata)\n",
    "    return additional_metadata"
   ]
  },
  {
   "cell_type": "code",
   "execution_count": 269,
   "id": "35277e7c-cb42-4e7c-8ac6-36ec3144a208",
   "metadata": {},
   "outputs": [],
   "source": [
    "def update_metadata(data, metadata):\n",
    "    for k, v in metadata.items():\n",
    "        data[k] = v\n",
    "    return data"
   ]
  },
  {
   "cell_type": "code",
   "execution_count": 270,
   "id": "62180da6-f153-4def-8ca9-224a92a7af57",
   "metadata": {},
   "outputs": [],
   "source": [
    "key_order = [\n",
    "    \"record_id\",\n",
    "    \"date\",\n",
    "    \"raw_date\",\n",
    "    \"title\",\n",
    "    \"place\",\n",
    "    \"empty_pg\",\n",
    "    \"text\",\n",
    "    \"pg\",\n",
    "    \"mean_wc_ocr\",\n",
    "    \"std_wc_ocr\",\n",
    "    \"Name\",\n",
    "    \"All names\",\n",
    "    \"Publisher\",\n",
    "    \"Country of publication 1\",\n",
    "    \"All Countries of publication\",\n",
    "    \"place\",\n",
    "    \"Physical description\",\n",
    "    \"Language_1\",\n",
    "    \"Language_2\",\n",
    "    \"Language_3\",\n",
    "    \"Language_4\",\n",
    "    \"multi_language\",\n",
    "]"
   ]
  },
  {
   "cell_type": "code",
   "execution_count": null,
   "id": "b353c2e9-b852-4ad6-8302-9b1e7800ec7b",
   "metadata": {},
   "outputs": [],
   "source": []
  },
  {
   "cell_type": "code",
   "execution_count": null,
   "id": "9f40b0ff-1ca6-4a18-afe1-300b72450638",
   "metadata": {},
   "outputs": [],
   "source": []
  },
  {
   "cell_type": "code",
   "execution_count": 271,
   "id": "432f3645-b8f4-48a2-878e-f50142f9a237",
   "metadata": {},
   "outputs": [],
   "source": [
    "def update_json(json_file: Path, out_dir: Path):\n",
    "    new_data = []\n",
    "    metadata = try_get_meta(json_file)\n",
    "    if metadata is not None:\n",
    "        metadata_to_update = process_updated_metadata(metadata)\n",
    "        additional_metadata = process_additional_metadata(metadata)\n",
    "        with open(json_file, \"r\") as f:\n",
    "            data = [json.loads(line) for line in f.readlines()]\n",
    "        for line_dict in data:\n",
    "            line_dict.update(metadata_to_update)\n",
    "            line_dict.update(additional_metadata)\n",
    "            line_dict = sort_dictionary_to_key_order(line_dict, key_order)\n",
    "            new_data.append(line_dict)\n",
    "        date = metadata_to_update[\"date\"]\n",
    "        if not date:\n",
    "            date = \"UNKOWN\"\n",
    "        _id = file.stem.split(\"_\")[-1]\n",
    "        fname = f\"{out_dir}/{date}_{_id}.jsonl\"\n",
    "        with open(fname, \"w\") as f:\n",
    "            for item in new_data:\n",
    "                f.write(json.dumps(item) + \"\\n\")\n",
    "    if metadata is None:\n",
    "        print(json_file)\n",
    "        with open(json_file, \"r\") as f:\n",
    "            data = [json.loads(line) for line in f.readlines()]\n",
    "            new_data = []\n",
    "            for line_dict in data:\n",
    "                line_dict.update(new_meta_if_empty)\n",
    "                line_dict = sort_dictionary_to_key_order(line_dict, key_order)\n",
    "                new_data.append(line_dict)\n",
    "\n",
    "        with open(f\"{out_dir}/{json_file.name}\", \"w\") as f:\n",
    "            for item in new_data:\n",
    "                f.write(json.dumps(item) + \"\\n\")"
   ]
  },
  {
   "cell_type": "code",
   "execution_count": 272,
   "id": "d42374fa-aa5b-4e44-8efe-7cab6e7b9d3f",
   "metadata": {},
   "outputs": [],
   "source": [
    "Path(\"test_update_metadata\").mkdir(exist_ok=True)"
   ]
  },
  {
   "cell_type": "code",
   "execution_count": null,
   "id": "9f6960fa-5628-423b-83d4-6cb0699a880b",
   "metadata": {},
   "outputs": [],
   "source": []
  },
  {
   "cell_type": "code",
   "execution_count": 273,
   "id": "77b5d3a2-cf3b-43f3-b435-2805d965f9a6",
   "metadata": {},
   "outputs": [
    {
     "data": {
      "application/vnd.jupyter.widget-view+json": {
       "model_id": "ee63fc180e8146de87d221b18db58923",
       "version_major": 2,
       "version_minor": 0
      },
      "text/plain": [
       "HBox(children=(FloatProgress(value=0.0, max=48352.0), HTML(value='')))"
      ]
     },
     "metadata": {},
     "output_type": "display_data"
    },
    {
     "name": "stdout",
     "output_type": "stream",
     "text": [
      "data/json/UNKOWN_003191327.jsonl\n",
      "data/json/UNKOWN_003557213.jsonl\n",
      "data/json/1877_001466085.jsonl\n",
      "data/json/1856_000363137.jsonl\n",
      "data/json/1885_001091683.jsonl\n",
      "data/json/UNKOWN_003367584.jsonl\n",
      "data/json/1753_001895346.jsonl\n",
      "data/json/1844_003349747.jsonl\n",
      "data/json/1857_000286981.jsonl\n",
      "data/json/UNKOWN_002462930.jsonl\n",
      "data/json/UNKOWN_002462932.jsonl\n",
      "data/json/UNKOWN_000930636.jsonl\n",
      "data/json/UNKOWN_003191325.jsonl\n",
      "data/json/UNKOWN_000950926.jsonl\n",
      "data/json/1845_001684958.jsonl\n",
      "data/json/UNKOWN_003557211.jsonl\n",
      "data/json/UNKOWN_000930552.jsonl\n",
      "data/json/UNKOWN_000950922.jsonl\n",
      "data/json/1864_002495290.jsonl\n",
      "data/json/1861_003839825.jsonl\n",
      "data/json/1844_001730697.jsonl\n",
      "data/json/1893_000005432.jsonl\n",
      "data/json/1882_001702351.jsonl\n",
      "data/json/UNKOWN_000930651.jsonl\n",
      "data/json/1890_003413365.jsonl\n",
      "data/json/UNKOWN_000930637.jsonl\n",
      "data/json/UNKOWN_000913805.jsonl\n",
      "data/json/1820_001659003.jsonl\n",
      "data/json/UNKOWN_003557210.jsonl\n",
      "data/json/1857_001666936.jsonl\n",
      "data/json/UNKOWN_000930557.jsonl\n",
      "data/json/UNKOWN_000930555.jsonl\n",
      "data/json/UNKOWN_002462928.jsonl\n",
      "data/json/UNKOWN_003557212.jsonl\n",
      "data/json/UNKOWN_003191326.jsonl\n",
      "data/json/UNKOWN_002462931.jsonl\n",
      "data/json/1804_002124473.jsonl\n",
      "data/json/UNKOWN_000913807.jsonl\n",
      "data/json/1850_001091681.jsonl\n",
      "data/json/UNKOWN_000913803.jsonl\n",
      "data/json/1766_001370335.jsonl\n",
      "data/json/UNKOWN_000609040.jsonl\n",
      "data/json/1838_000235247.jsonl\n",
      "data/json/1895_001091685.jsonl\n",
      "data/json/UNKOWN_000609038.jsonl\n",
      "data/json/1881_001522176.jsonl\n",
      "data/json/UNKOWN_000930553.jsonl\n",
      "data/json/UNKOWN_003426318.jsonl\n",
      "data/json/1840_001867492.jsonl\n",
      "data/json/1828_002299898.jsonl\n",
      "data/json/1897_000356111.jsonl\n",
      "data/json/UNKOWN_003426316.jsonl\n",
      "data/json/1854_002702680.jsonl\n",
      "data/json/UNKOWN_002462941.jsonl\n",
      "data/json/UNKOWN_000930645.jsonl\n",
      "data/json/1893_003048838.jsonl\n",
      "data/json/1819_000513192.jsonl\n",
      "data/json/UNKOWN_000930639.jsonl\n",
      "data/json/UNKOWN_003557207.jsonl\n",
      "data/json/1892_001643126.jsonl\n",
      "data/json/UNKOWN_000913798.jsonl\n",
      "data/json/UNKOWN_000930641.jsonl\n",
      "data/json/1790_001643125.jsonl\n",
      "data/json/1786_002144677.jsonl\n",
      "data/json/UNKOWN_000471777.jsonl\n",
      "data/json/UNKOWN_000471775.jsonl\n",
      "data/json/UNKOWN_000930643.jsonl\n",
      "data/json/1787_001664273.jsonl\n",
      "data/json/UNKOWN_003426317.jsonl\n",
      "data/json/1860_001091682.jsonl\n",
      "data/json/1847_001813898.jsonl\n",
      "data/json/1844_003564320.jsonl\n",
      "data/json/1879_003880512.jsonl\n",
      "data/json/UNKOWN_003191334.jsonl\n",
      "data/json/UNKOWN_002462942.jsonl\n",
      "data/json/UNKOWN_000930646.jsonl\n",
      "data/json/1878_001016065.jsonl\n",
      "data/json/1886_001091684.jsonl\n",
      "data/json/UNKOWN_003426315.jsonl\n",
      "data/json/UNKOWN_000557736.jsonl\n",
      "data/json/1805_003884506.jsonl\n",
      "data/json/UNKOWN_003557220.jsonl\n",
      "data/json/UNKOWN_000930642.jsonl\n",
      "data/json/1893_001091670.jsonl\n",
      "data/json/UNKOWN_000930638.jsonl\n",
      "data/json/1864_001091940.jsonl\n",
      "data/json/1850_000835806.jsonl\n",
      "data/json/UNKOWN_002749450.jsonl\n",
      "data/json/1833_002157703.jsonl\n",
      "data/json/UNKOWN_000950928.jsonl\n",
      "\n"
     ]
    }
   ],
   "source": [
    "for file in tqdm(json_files):\n",
    "    update_json(file, \"test_update_metadata\")"
   ]
  },
  {
   "cell_type": "code",
   "execution_count": 276,
   "id": "576192c2-f01f-49f6-ab62-ddf6145bd049",
   "metadata": {},
   "outputs": [
    {
     "name": "stdout",
     "output_type": "stream",
     "text": [
      "   48353\n"
     ]
    }
   ],
   "source": [
    "!ls -l test_update_metadata | wc -l"
   ]
  },
  {
   "cell_type": "code",
   "execution_count": null,
   "id": "de1436ec-84d3-4580-b9cc-3a203d0e589d",
   "metadata": {},
   "outputs": [],
   "source": []
  },
  {
   "cell_type": "code",
   "execution_count": null,
   "id": "cd90d2f4-4b4f-4206-95bb-aa469c4a1930",
   "metadata": {},
   "outputs": [],
   "source": []
  },
  {
   "cell_type": "code",
   "execution_count": null,
   "id": "e0b5b891-d1c7-4879-af6b-bcc5dfa96578",
   "metadata": {},
   "outputs": [],
   "source": []
  },
  {
   "cell_type": "code",
   "execution_count": null,
   "id": "8378808f-daa5-4c88-bde3-001c207918d7",
   "metadata": {},
   "outputs": [],
   "source": []
  },
  {
   "cell_type": "markdown",
   "id": "ea51ea4d-871b-4507-9145-f84b964f81b6",
   "metadata": {},
   "source": [
    "### Sorting files ready for upload to repository"
   ]
  },
  {
   "cell_type": "code",
   "execution_count": 277,
   "id": "5b0fde1a-9bbf-4b39-89f9-8b99fa976c99",
   "metadata": {},
   "outputs": [],
   "source": [
    "date_files = {\n",
    "    \"1510 - 1699\": [],\n",
    "    \"1700 - 1799\": [],\n",
    "    \"1800 - 1809\": [],\n",
    "    \"1810 - 1819\": [],\n",
    "    \"1820 - 1829\": [],\n",
    "    \"1830 - 1839\": [],\n",
    "    \"1840 - 1849\": [],\n",
    "    \"1850 - 1859\": [],\n",
    "    \"1860 - 1869\": [],\n",
    "    \"1870 - 1879\": [],\n",
    "    \"1880 - 1889\": [],\n",
    "    \"1890 - 1899\": [],\n",
    "}"
   ]
  },
  {
   "cell_type": "code",
   "execution_count": 278,
   "id": "860869ae-68d4-483f-8bde-5f015be23200",
   "metadata": {},
   "outputs": [],
   "source": [
    "def get_decade(x):\n",
    "    return x.stem.split(\"_\")[0][:3]"
   ]
  },
  {
   "cell_type": "code",
   "execution_count": 279,
   "id": "2d9d5f1a-f997-425f-a6a9-801fd24231d5",
   "metadata": {},
   "outputs": [],
   "source": [
    "def get_year(x):\n",
    "    return x.stem.split(\"_\")[0]"
   ]
  },
  {
   "cell_type": "code",
   "execution_count": 295,
   "id": "b9a943d5-2b00-4068-be29-d4fb8014586a",
   "metadata": {},
   "outputs": [],
   "source": [
    "files = [f for f in Path(\"test_update_metadata\").glob(\"*.jsonl\")]"
   ]
  },
  {
   "cell_type": "code",
   "execution_count": 296,
   "id": "746d2525-6be7-4030-9b31-c5dabd7a1e6d",
   "metadata": {},
   "outputs": [],
   "source": [
    "set([get_year(f) for f in files]);"
   ]
  },
  {
   "cell_type": "code",
   "execution_count": 298,
   "id": "83fc2331-807b-4eb2-a26b-e7c5cc2da23c",
   "metadata": {},
   "outputs": [],
   "source": [
    "from collections import defaultdict\n",
    "\n",
    "dates_dict = defaultdict(list)"
   ]
  },
  {
   "cell_type": "markdown",
   "id": "50aa5b44-a702-424c-811a-3d86e4aeac21",
   "metadata": {},
   "source": [
    "Organise files into dictionary depending on year group  "
   ]
  },
  {
   "cell_type": "code",
   "execution_count": 299,
   "id": "2da7ebbd-9f6d-4e91-9192-1396e4f642be",
   "metadata": {},
   "outputs": [
    {
     "data": {
      "application/vnd.jupyter.widget-view+json": {
       "model_id": "3c19c8e7dce34434a14b51b93498166d",
       "version_major": 2,
       "version_minor": 0
      },
      "text/plain": [
       "HBox(children=(FloatProgress(value=0.0, max=48352.0), HTML(value='')))"
      ]
     },
     "metadata": {},
     "output_type": "display_data"
    },
    {
     "name": "stdout",
     "output_type": "stream",
     "text": [
      "\n"
     ]
    }
   ],
   "source": [
    "for file in tqdm(files):\n",
    "    year = get_year(file)\n",
    "    try:\n",
    "        year = int(year)\n",
    "        for key in date_files.keys():\n",
    "            start = key.split(\"-\")[0]\n",
    "            end = key.split(\"-\")[1]\n",
    "            if int(start) <= year <= int(end):\n",
    "                dates_dict[key].append(file)\n",
    "    except ValueError:\n",
    "        dates_dict[\"unk\"].append(file)"
   ]
  },
  {
   "cell_type": "code",
   "execution_count": 300,
   "id": "cc25d779-7ebd-4881-9003-d8841ccb8558",
   "metadata": {},
   "outputs": [],
   "source": [
    "dates_dict;"
   ]
  },
  {
   "cell_type": "markdown",
   "id": "935bfac1-f723-481e-bf18-ac70a26b26d7",
   "metadata": {},
   "source": [
    "make folder for year ranges and copy files into these new folders "
   ]
  },
  {
   "cell_type": "code",
   "execution_count": 301,
   "id": "b7822d97-dd99-4dfe-802e-6085919d311c",
   "metadata": {},
   "outputs": [
    {
     "data": {
      "application/vnd.jupyter.widget-view+json": {
       "model_id": "9466958a15f146dca60e4796b095f039",
       "version_major": 2,
       "version_minor": 0
      },
      "text/plain": [
       "HBox(children=(FloatProgress(value=0.0, max=13.0), HTML(value='')))"
      ]
     },
     "metadata": {},
     "output_type": "display_data"
    },
    {
     "name": "stdout",
     "output_type": "stream",
     "text": [
      "\n"
     ]
    }
   ],
   "source": [
    "for key, value in tqdm(dates_dict.items()):\n",
    "    out_path = Path(key.replace(\" \", \"\").replace(\"-\", \"_\"))\n",
    "    out_path.mkdir(exist_ok=True)\n",
    "    files = value\n",
    "    [shutil.copy(f, Path(out_path / f.name)) for f in files]"
   ]
  },
  {
   "cell_type": "code",
   "execution_count": 302,
   "id": "d60ed613-5379-4df3-9ce9-5f938ea66c9d",
   "metadata": {},
   "outputs": [
    {
     "data": {
      "text/plain": [
       "dict_keys(['1850 - 1859', '1880 - 1889', '1800 - 1809', '1810 - 1819', '1890 - 1899', '1830 - 1839', '1870 - 1879', '1700 - 1799', '1860 - 1869', '1840 - 1849', '1820 - 1829', '1510 - 1699', 'unk'])"
      ]
     },
     "execution_count": 302,
     "metadata": {},
     "output_type": "execute_result"
    }
   ],
   "source": [
    "dates_dict.keys()"
   ]
  },
  {
   "cell_type": "markdown",
   "id": "737571c8-328d-41cf-9540-1a186e242984",
   "metadata": {},
   "source": [
    "We now compress each file with `gzip`"
   ]
  },
  {
   "cell_type": "code",
   "execution_count": 303,
   "id": "de07c902-de14-4f85-9d38-d487a2cff022",
   "metadata": {},
   "outputs": [],
   "source": [
    "import gzip"
   ]
  },
  {
   "cell_type": "code",
   "execution_count": 304,
   "id": "1161545c-5ba3-405f-995e-6c9efb34514c",
   "metadata": {},
   "outputs": [
    {
     "data": {
      "application/vnd.jupyter.widget-view+json": {
       "model_id": "3633fa177d284142a3747b220e310f04",
       "version_major": 2,
       "version_minor": 0
      },
      "text/plain": [
       "HBox(children=(FloatProgress(value=0.0, max=13.0), HTML(value='')))"
      ]
     },
     "metadata": {},
     "output_type": "display_data"
    },
    {
     "name": "stdout",
     "output_type": "stream",
     "text": [
      "\n"
     ]
    }
   ],
   "source": [
    "for key, value in tqdm(dates_dict.items()):\n",
    "    directory = Path(key.replace(\" \", \"\").replace(\"-\", \"_\"))\n",
    "    for file in Path(directory).glob(\"*.jsonl\"):\n",
    "        gz_file = file.parent / (file.name + \".gz\")\n",
    "        with open(file, \"rb\") as f_in:\n",
    "            with gzip.open(gz_file, \"wb\") as f_out:\n",
    "                shutil.copyfileobj(f_in, f_out)"
   ]
  },
  {
   "cell_type": "markdown",
   "id": "d8584587-4afa-4f12-a1e5-f226f66a4236",
   "metadata": {},
   "source": [
    "Small sense check"
   ]
  },
  {
   "cell_type": "code",
   "execution_count": 305,
   "id": "e5ab2d27-4b2b-4711-9c68-67c8013c9d23",
   "metadata": {},
   "outputs": [],
   "source": [
    "from toolz.itertoolz import count"
   ]
  },
  {
   "cell_type": "code",
   "execution_count": 306,
   "id": "1eba7e1a-b88e-46ce-9e7c-046c9ab19b99",
   "metadata": {},
   "outputs": [
    {
     "data": {
      "application/vnd.jupyter.widget-view+json": {
       "model_id": "687c3a7912c746f7a7db39380129b8ce",
       "version_major": 2,
       "version_minor": 0
      },
      "text/plain": [
       "HBox(children=(FloatProgress(value=0.0, max=13.0), HTML(value='')))"
      ]
     },
     "metadata": {},
     "output_type": "display_data"
    },
    {
     "name": "stdout",
     "output_type": "stream",
     "text": [
      "\n"
     ]
    }
   ],
   "source": [
    "for key, value in tqdm(dates_dict.items()):\n",
    "    directory = Path(key.replace(\" \", \"\").replace(\"-\", \"_\"))\n",
    "    json_count = count(Path(directory).rglob(\"*.jsonl\"))\n",
    "    json_count_gzip = count(Path(directory).rglob(\"*.jsonl.gz\"))\n",
    "    assert json_count == json_count_gzip"
   ]
  },
  {
   "cell_type": "markdown",
   "id": "9ae72bf3-bb86-4085-a918-f6e3354d0f50",
   "metadata": {},
   "source": [
    "We now create a new folder for our final folders with only the compressed files"
   ]
  },
  {
   "cell_type": "code",
   "execution_count": 307,
   "id": "2919ee5f-71bc-482a-9319-b69b8f3af6a6",
   "metadata": {},
   "outputs": [],
   "source": [
    "final = Path(\"data/final\")\n",
    "final.mkdir(exist_ok=True)"
   ]
  },
  {
   "cell_type": "markdown",
   "id": "feb33c47-b0a0-4c9f-9198-9df2f67ac90a",
   "metadata": {},
   "source": [
    "and move the `gzip` compressed json files to their relevant folder under the `final` directory"
   ]
  },
  {
   "cell_type": "code",
   "execution_count": 308,
   "id": "9c9c3266-c1e5-4ab8-9ebc-3849b0f4a1c5",
   "metadata": {},
   "outputs": [
    {
     "data": {
      "application/vnd.jupyter.widget-view+json": {
       "model_id": "d7e55274e2f547ada943636360099cb1",
       "version_major": 2,
       "version_minor": 0
      },
      "text/plain": [
       "HBox(children=(FloatProgress(value=0.0, max=13.0), HTML(value='')))"
      ]
     },
     "metadata": {},
     "output_type": "display_data"
    },
    {
     "name": "stdout",
     "output_type": "stream",
     "text": [
      "\n"
     ]
    }
   ],
   "source": [
    "for key, value in tqdm(dates_dict.items()):\n",
    "    directory = Path(key.replace(\" \", \"\").replace(\"-\", \"_\"))\n",
    "    compressed_dir = Path(final / directory)\n",
    "    compressed_dir.mkdir(exist_ok=True)\n",
    "    for file in Path(directory).glob(\"*.jsonl.gz\"):\n",
    "        shutil.copy(file, compressed_dir / file.name)"
   ]
  },
  {
   "cell_type": "markdown",
   "id": "fb29ab01-9f5c-4f8b-9d98-7a9d4b37faed",
   "metadata": {},
   "source": [
    "We finally compress each folder, this won't save too much extra room but makes it easier to share each directory "
   ]
  },
  {
   "cell_type": "code",
   "execution_count": 309,
   "id": "58db565c-d830-46ed-91f7-42916d9aac06",
   "metadata": {},
   "outputs": [],
   "source": [
    "%%bash\n",
    "cd data/final/\n",
    "for dir in */\n",
    "do\n",
    "  base=$(basename \"$dir\")\n",
    "  gtar -czf \"${base}.tar.gz\" \"$dir\"\n",
    "done"
   ]
  },
  {
   "cell_type": "markdown",
   "id": "b297de4a-4159-46f6-ba61-7b91a5737152",
   "metadata": {},
   "source": [
    "fin"
   ]
  }
 ],
 "metadata": {
  "kernelspec": {
   "display_name": "datasets",
   "language": "python",
   "name": "datasets"
  },
  "language_info": {
   "codemirror_mode": {
    "name": "ipython",
    "version": 3
   },
   "file_extension": ".py",
   "mimetype": "text/x-python",
   "name": "python",
   "nbconvert_exporter": "python",
   "pygments_lexer": "ipython3",
   "version": "3.9.6"
  }
 },
 "nbformat": 4,
 "nbformat_minor": 5
}
